{
 "cells": [
  {
   "metadata": {},
   "cell_type": "markdown",
   "source": [
    "# Ch 4. 신경망 학습\n",
    "\n",
    "---\n",
    "\n",
    "2024.08.03.\n",
    "\n",
    "기준: 기존에 아는 내용은 스킵하고, 복습할 내용만 정리한다."
   ],
   "id": "b380ad6e63e45982"
  },
  {
   "metadata": {},
   "cell_type": "markdown",
   "source": [
    "## 4.1 데이터에서 학습한다!\n",
    "\n",
    "### 4.1.1 데이터 주도 학습\n",
    "\n",
    "- 기계학습은 데이터가 생명이다. \n",
    "- 데이터에서 답을 찾고 데이터에서 패턴을 발견하고 데이터로 이야기를 만드는 것이다.\n",
    "- 사람의 개입을 최소화하고, 수집한 데이터로부터 패턴을 찾으려 시도한다.\n",
    "- 이미지에서 `특징(feature)`을 추출하고 그 특징의 패턴을 기계학습 기술로 학습하는 방법이 있다.\n",
    "- 다만, 이미지를 벡터로 변환할 때 사용하는 특징은 여전히 사람이 설계하는 것임에 주의하라.\n",
    "\n",
    "\n",
    "### 4.1.2 훈련 데이터와 시험 데이터\n",
    "\n",
    "- 기계학습 문제는 데이터를 `훈련 데이터(training data)`와 `시험 데이터(test data)`로 나눠 학습과 실험을 수행하는 것이 일반적이다.\n",
    "- 우선 훈련 데이터만 사용하여 학습하면서 최적의 매개변수를 찾는다.\n",
    "- 그런 다음 시험 데이터를 사용하여 앞서 훈련한 모델의 실력을 평가한다.\n",
    "- 이를 `범용 능력(일반화 능력)`을 평가한다고 한다.\n",
    "- 참고로 한 데이터셋에만 지나치게 최적화된 상태를 `오버피팅(과적합, overfitting)`이라고 한다."
   ],
   "id": "fdd7381d103022f1"
  },
  {
   "metadata": {},
   "cell_type": "markdown",
   "source": [
    "### 4.2 손실 함수(loss function)\n",
    "\n",
    "- 신경망 학습에서는 `하나의 지표`를 기준으로 최적의 매개변수 값을 탐색한다.\n",
    "- 그리고 그 지표를 가장 좋게 만들어주는 가중치 매개변수의 값을 탐색하는 것이다.\n",
    "- 이 지표를 `손실 함수(loss function)`이라고 한다.\n",
    "\n",
    "#### 4.2.1 오차제곱합\n",
    "\n",
    "- 가장 많이 쓰이는 손실 함수\n",
    "\n",
    "$$ E = \\frac{1}{2} \\sum_{k} (y_k - t_k)^2 $$\n",
    "\n",
    "- $y_k$는 신경망의 출력, $t_k$는 정답 레이블, $k$는 데이터 차원 수"
   ],
   "id": "be38d97c8299c61"
  },
  {
   "metadata": {
    "ExecuteTime": {
     "end_time": "2024-08-04T08:26:36.147323Z",
     "start_time": "2024-08-04T08:26:35.782960Z"
    }
   },
   "cell_type": "code",
   "source": [
    "import numpy as np\n",
    "import matplotlib.pyplot as plt"
   ],
   "id": "361d56b6b5d81eaf",
   "outputs": [],
   "execution_count": 1
  },
  {
   "metadata": {
    "ExecuteTime": {
     "end_time": "2024-08-03T08:36:24.812454Z",
     "start_time": "2024-08-03T08:36:24.810862Z"
    }
   },
   "cell_type": "code",
   "source": [
    "y = [0.1, 0.05, 0.6, 0.0, 0.05, 0.1, 0.0, 0.1, 0.0, 0.0]\n",
    "t = [0, 0, 1, 0, 0, 0, 0, 0, 0, 0]"
   ],
   "id": "8406dcadcdc45c0f",
   "outputs": [],
   "execution_count": 211
  },
  {
   "metadata": {
    "ExecuteTime": {
     "end_time": "2024-08-03T08:36:24.839762Z",
     "start_time": "2024-08-03T08:36:24.838118Z"
    }
   },
   "cell_type": "code",
   "source": [
    "def sum_squares_error(y, t):\n",
    "    return 0.5 * np.sum((y-t)**2)"
   ],
   "id": "eae76577f49e44e5",
   "outputs": [],
   "execution_count": 212
  },
  {
   "metadata": {
    "ExecuteTime": {
     "end_time": "2024-08-03T08:36:24.872313Z",
     "start_time": "2024-08-03T08:36:24.870281Z"
    }
   },
   "cell_type": "code",
   "source": "sum_squares_error(np.array(y), np.array(t))",
   "id": "4603ef6a06dc3708",
   "outputs": [
    {
     "data": {
      "text/plain": [
       "0.09750000000000003"
      ]
     },
     "execution_count": 213,
     "metadata": {},
     "output_type": "execute_result"
    }
   ],
   "execution_count": 213
  },
  {
   "metadata": {
    "ExecuteTime": {
     "end_time": "2024-08-03T08:36:24.890277Z",
     "start_time": "2024-08-03T08:36:24.888643Z"
    }
   },
   "cell_type": "code",
   "source": "y = [0.1, 0.05, 0.1, 0.0, 0.05, 0.1, 0.0, 0.6, 0.0, 0.0]",
   "id": "fb7c0b63bea7dc54",
   "outputs": [],
   "execution_count": 214
  },
  {
   "metadata": {
    "ExecuteTime": {
     "end_time": "2024-08-03T08:36:24.916152Z",
     "start_time": "2024-08-03T08:36:24.914020Z"
    }
   },
   "cell_type": "code",
   "source": "sum_squares_error(np.array(y), np.array(t))",
   "id": "57b75f11eb4ed729",
   "outputs": [
    {
     "data": {
      "text/plain": [
       "0.5975"
      ]
     },
     "execution_count": 215,
     "metadata": {},
     "output_type": "execute_result"
    }
   ],
   "execution_count": 215
  },
  {
   "metadata": {},
   "cell_type": "markdown",
   "source": [
    "#### 4.2.2 교차 엔트로피 오차\n",
    "\n",
    "$$ E = - \\sum_{k} t_k \\log y_k $$\n",
    "\n",
    "- $t_k$는 정답 레이블, $y_k$는 신경망의 출력"
   ],
   "id": "65e078a5186dd744"
  },
  {
   "metadata": {
    "ExecuteTime": {
     "end_time": "2024-08-03T08:36:24.940604Z",
     "start_time": "2024-08-03T08:36:24.939052Z"
    }
   },
   "cell_type": "code",
   "source": [
    "def cross_entropy_error(y, t):\n",
    "    delta = 1e-7\n",
    "    return -np.sum(t * np.log(y + delta))"
   ],
   "id": "4694e62f7e94307b",
   "outputs": [],
   "execution_count": 216
  },
  {
   "metadata": {},
   "cell_type": "markdown",
   "source": [
    "- 여기서 델타 값을 더하는 이유는 np.log() 함수에 0을 입력하면 마이너스 무한대가 되어 더 이상 계산을 진행할 수 없기 때문이다.\n",
    "- 즉, 아주 작은 값을 더해주어 0이 되지 않도록 한다."
   ],
   "id": "9d0987f1879f5a4a"
  },
  {
   "metadata": {
    "ExecuteTime": {
     "end_time": "2024-08-03T08:36:24.964220Z",
     "start_time": "2024-08-03T08:36:24.962507Z"
    }
   },
   "cell_type": "code",
   "source": [
    "t = [0, 0, 1, 0, 0, 0, 0, 0, 0, 0]\n",
    "y = [0.1, 0.05, 0.6, 0.0, 0.05, 0.1, 0.0, 0.1, 0.0, 0.0]"
   ],
   "id": "47cdabf992ddf315",
   "outputs": [],
   "execution_count": 217
  },
  {
   "metadata": {
    "ExecuteTime": {
     "end_time": "2024-08-03T08:36:25.005493Z",
     "start_time": "2024-08-03T08:36:25.003466Z"
    }
   },
   "cell_type": "code",
   "source": "cross_entropy_error(np.array(y), np.array(t))",
   "id": "9846bb058e4640fb",
   "outputs": [
    {
     "data": {
      "text/plain": [
       "0.510825457099338"
      ]
     },
     "execution_count": 218,
     "metadata": {},
     "output_type": "execute_result"
    }
   ],
   "execution_count": 218
  },
  {
   "metadata": {
    "ExecuteTime": {
     "end_time": "2024-08-03T08:36:25.022776Z",
     "start_time": "2024-08-03T08:36:25.021239Z"
    }
   },
   "cell_type": "code",
   "source": "y = [0.1, 0.05, 0.1, 0.0, 0.05, 0.1, 0.0, 0.6, 0.0, 0.0]",
   "id": "85411d09ff1ce6a4",
   "outputs": [],
   "execution_count": 219
  },
  {
   "metadata": {
    "ExecuteTime": {
     "end_time": "2024-08-03T08:36:25.041692Z",
     "start_time": "2024-08-03T08:36:25.039661Z"
    }
   },
   "cell_type": "code",
   "source": "cross_entropy_error(np.array(y), np.array(t))",
   "id": "9fe1cc99265642c8",
   "outputs": [
    {
     "data": {
      "text/plain": [
       "2.302584092994546"
      ]
     },
     "execution_count": 220,
     "metadata": {},
     "output_type": "execute_result"
    }
   ],
   "execution_count": 220
  },
  {
   "metadata": {},
   "cell_type": "markdown",
   "source": [
    "#### 4.2.3 미니배치 학습\n",
    "\n",
    "- 훈련 데이터 모두에 대한 손실 함수의 합을 구하는 방법이 필요함\n",
    "- 데이터가 많을 때는 모든 데이터에 대한 손실 함수를 계산하는 것은 현실적이지 않음\n",
    "- 데이터 일부를 추려 전체의 근사치로 이용\n",
    "- 이를 `미니배치(mini-batch)` 학습이라 함\n",
    "\n",
    "$$ E = - \\frac{1}{N} \\sum_{n} \\sum_{k} t_{nk} \\log y_{nk} $$\n",
    "\n",
    "- $N$은 데이터의 개수, $t_{nk}$는 $n$번째 데이터의 $k$번째 값을 의미"
   ],
   "id": "653c9d8afb0ec4a1"
  },
  {
   "metadata": {
    "ExecuteTime": {
     "end_time": "2024-08-03T08:36:25.156061Z",
     "start_time": "2024-08-03T08:36:25.083962Z"
    }
   },
   "cell_type": "code",
   "source": [
    "import sys, os\n",
    "sys.path.append(os.pardir)\n",
    "import numpy as np\n",
    "from dataset.mnist import load_mnist\n",
    "\n",
    "(x_train, t_train), (x_test, t_test) = load_mnist(normalize=True, one_hot_label=True)\n",
    "\n",
    "print(x_train.shape)\n",
    "print(t_train.shape)"
   ],
   "id": "807dea67d1c63e59",
   "outputs": [
    {
     "name": "stdout",
     "output_type": "stream",
     "text": [
      "(60000, 784)\n",
      "(60000, 10)\n"
     ]
    }
   ],
   "execution_count": 221
  },
  {
   "metadata": {
    "ExecuteTime": {
     "end_time": "2024-08-03T08:36:25.159840Z",
     "start_time": "2024-08-03T08:36:25.157288Z"
    }
   },
   "cell_type": "code",
   "source": [
    "train_size = x_train.shape[0]\n",
    "batch_size = 10\n",
    "batch_mask = np.random.choice(train_size, batch_size)\n",
    "x_batch = x_train[batch_mask]\n",
    "t_batch = t_train[batch_mask]"
   ],
   "id": "329b5362ad1746d9",
   "outputs": [],
   "execution_count": 222
  },
  {
   "metadata": {
    "ExecuteTime": {
     "end_time": "2024-08-03T08:36:25.163248Z",
     "start_time": "2024-08-03T08:36:25.160749Z"
    }
   },
   "cell_type": "code",
   "source": "np.random.choice(60000, 10)",
   "id": "a0502ecc190d3275",
   "outputs": [
    {
     "data": {
      "text/plain": [
       "array([35390, 21837, 48931, 22046, 32333, 18383, 28400, 48682,  4365,\n",
       "       11160])"
      ]
     },
     "execution_count": 223,
     "metadata": {},
     "output_type": "execute_result"
    }
   ],
   "execution_count": 223
  },
  {
   "metadata": {},
   "cell_type": "markdown",
   "source": "#### 4.2.4 (배치용) 교차 엔트로피 오차 구현하기",
   "id": "f7f684a9b683177b"
  },
  {
   "metadata": {
    "ExecuteTime": {
     "end_time": "2024-08-03T08:36:25.167996Z",
     "start_time": "2024-08-03T08:36:25.166231Z"
    }
   },
   "cell_type": "code",
   "source": [
    "def cross_entropy_error1(y, t):\n",
    "    if y.ndim == 1:\n",
    "        t = t.reshape(1, t.size)\n",
    "        y = y.reshape(1, y.size)\n",
    "    \n",
    "    batch_size = y.shape[0]\n",
    "    return -np.sum(t * np.log(y + 1e-7)) / batch_size"
   ],
   "id": "26f1b741f73d0fde",
   "outputs": [],
   "execution_count": 224
  },
  {
   "metadata": {
    "ExecuteTime": {
     "end_time": "2024-08-03T08:36:25.188604Z",
     "start_time": "2024-08-03T08:36:25.186551Z"
    }
   },
   "cell_type": "code",
   "source": [
    "def cross_entropy_error2(y, t):\n",
    "    if y.ndim == 1:\n",
    "        t = t.reshape(1, t.size)\n",
    "        y = y.reshape(1, y.size)\n",
    "    \n",
    "    batch_size = y.shape[0]\n",
    "    return -np.sum(np.log(y[np.arange(batch_size), t] + 1e-7)) / batch_size"
   ],
   "id": "30b449eb03e44428",
   "outputs": [],
   "execution_count": 225
  },
  {
   "metadata": {},
   "cell_type": "markdown",
   "source": [
    "### 4.2.5 왜 손실 함수를 설정하는가?\n",
    "\n",
    "- 신경망 학습에서의 '미분'의 역할에 주목한다면 해결된다.\n",
    "- 신경망 학습에서는 최적의 매개변수(가중치와 편향)을 탐색할 때 손실 함수의 값을 가능한 작게 하는 매개변수 값을 찾는다.\n",
    "- 이때 매개변수의 미분(정확히는 기울기)을 계산하고, 그 미분 값을 단서로 매개변수의 값을 서서히 갱신하는 과정을 반복한다.\n",
    "- 정확도를 지표로 삼으면 매개변수의 미분이 대부분의 장소에서 0이 되어 매개변수를 갱신할 수 없다.\n",
    "\n",
    "> 신경망을 학습할 때 정확도를 지표로 삼아서는 안 된다. 정확도를 지표로 하면 매개변수의 미분이 대부분의 장소에서 0이 되기 때문이다. 정확도는 매개변수의 미소한 변화에는 거의 반응을 보이지 않다가, 불연속적으로 갑자기 변화한다."
   ],
   "id": "6bdd3d7c3c5a38f4"
  },
  {
   "metadata": {},
   "cell_type": "markdown",
   "source": [
    "### 4.3 수치 미분\n",
    "\n",
    "#### 4.3.1 미분\n",
    "\n",
    "- 미분: 한순간의 변화량\n",
    "- 수치 미분: 아주 작은 차분으로 미분하는 것\n",
    "- 해석적 미분: 수식을 전개해 미분하는 것\n",
    "\n",
    "$$ \\frac{df(x)}{dx} = \\lim_{h \\to 0} \\frac{f(x+h) - f(x)}{h} $$\n",
    "\n",
    "- 해당 식은 좌변 f(x)의 x에 대한 미분을 나타낸다.\n",
    "- 즉, x의 작은 변화가 함수 f(x)를 얼마나 변화시키느냐를 의미한다."
   ],
   "id": "7783f80bee77f3b"
  },
  {
   "metadata": {
    "ExecuteTime": {
     "end_time": "2024-08-04T08:45:49.308104Z",
     "start_time": "2024-08-04T08:45:49.305823Z"
    }
   },
   "cell_type": "code",
   "source": [
    "def numerical_diff_bad(f, x):\n",
    "    h = 1e-50\n",
    "    return (f(x+h) - f(x)) / h"
   ],
   "id": "68bcc60a847cc028",
   "outputs": [],
   "execution_count": 2
  },
  {
   "metadata": {
    "ExecuteTime": {
     "end_time": "2024-08-04T08:45:49.626223Z",
     "start_time": "2024-08-04T08:45:49.622754Z"
    }
   },
   "cell_type": "code",
   "source": "np.float32(1e-50)",
   "id": "53e4ab033cbfeeab",
   "outputs": [
    {
     "data": {
      "text/plain": [
       "0.0"
      ]
     },
     "execution_count": 3,
     "metadata": {},
     "output_type": "execute_result"
    }
   ],
   "execution_count": 3
  },
  {
   "metadata": {
    "ExecuteTime": {
     "end_time": "2024-08-03T08:36:25.321757Z",
     "start_time": "2024-08-03T08:36:25.320063Z"
    }
   },
   "cell_type": "code",
   "source": [
    "def numerical_diff(f, x):\n",
    "    h = 1e-4\n",
    "    return (f(x+h) - f(x-h)) / (2*h)"
   ],
   "id": "5d92103560df346b",
   "outputs": [],
   "execution_count": 228
  },
  {
   "metadata": {},
   "cell_type": "markdown",
   "source": [
    "#### 4.3.2 수치 미분의 예\n",
    "\n",
    "$$ y = 0.01x^2 + 0.1x $$\n",
    "\n",
    "- 이 함수의 해석적 미분은 $0.02x + 0.1$"
   ],
   "id": "2661f13194f88ad8"
  },
  {
   "metadata": {
    "ExecuteTime": {
     "end_time": "2024-08-03T08:36:25.342238Z",
     "start_time": "2024-08-03T08:36:25.340631Z"
    }
   },
   "cell_type": "code",
   "source": [
    "def function_1(x):\n",
    "    return 0.01*x**2 + 0.1*x"
   ],
   "id": "523e4599068ee156",
   "outputs": [],
   "execution_count": 229
  },
  {
   "metadata": {
    "ExecuteTime": {
     "end_time": "2024-08-03T08:36:25.413840Z",
     "start_time": "2024-08-03T08:36:25.373075Z"
    }
   },
   "cell_type": "code",
   "source": [
    "x = np.arange(0.0, 20.0, 0.1)\n",
    "y = function_1(x)\n",
    "plt.xlabel(\"x\")\n",
    "plt.ylabel(\"f(x)\")\n",
    "plt.plot(x, y)\n",
    "plt.show()"
   ],
   "id": "392341e1621b57f0",
   "outputs": [
    {
     "data": {
      "text/plain": [
       "<Figure size 640x480 with 1 Axes>"
      ],
      "image/png": "[encoded data removed]"
     },
     "metadata": {},
     "output_type": "display_data"
    }
   ],
   "execution_count": 230
  },
  {
   "metadata": {
    "ExecuteTime": {
     "end_time": "2024-08-03T08:36:25.417346Z",
     "start_time": "2024-08-03T08:36:25.414846Z"
    }
   },
   "cell_type": "code",
   "source": "numerical_diff(function_1, 5)",
   "id": "372c45898b45c02e",
   "outputs": [
    {
     "data": {
      "text/plain": [
       "0.1999999999990898"
      ]
     },
     "execution_count": 231,
     "metadata": {},
     "output_type": "execute_result"
    }
   ],
   "execution_count": 231
  },
  {
   "metadata": {
    "ExecuteTime": {
     "end_time": "2024-08-03T08:36:25.437571Z",
     "start_time": "2024-08-03T08:36:25.435387Z"
    }
   },
   "cell_type": "code",
   "source": "numerical_diff(function_1, 10)",
   "id": "f54913d178323da3",
   "outputs": [
    {
     "data": {
      "text/plain": [
       "0.2999999999986347"
      ]
     },
     "execution_count": 232,
     "metadata": {},
     "output_type": "execute_result"
    }
   ],
   "execution_count": 232
  },
  {
   "metadata": {},
   "cell_type": "markdown",
   "source": [
    "- 해석적 해\n",
    "$$ \\frac{df(x)}{dx} = 0.02x + 0.1 $$"
   ],
   "id": "15795f2ff8d7da77"
  },
  {
   "metadata": {},
   "cell_type": "markdown",
   "source": [
    "#### 4.3.3 편미분\n",
    "\n",
    "- 변수가 여럿인 함수에 대한 미분을 `편미분`이라 한다."
   ],
   "id": "1b0a2ad1a230d339"
  },
  {
   "metadata": {
    "ExecuteTime": {
     "end_time": "2024-08-03T08:36:25.488250Z",
     "start_time": "2024-08-03T08:36:25.486690Z"
    }
   },
   "cell_type": "code",
   "source": [
    "def function_2(x):\n",
    "    return x[0]**2 + x[1]**2"
   ],
   "id": "f69eb8dad0c36b4e",
   "outputs": [],
   "execution_count": 233
  },
  {
   "metadata": {
    "ExecuteTime": {
     "end_time": "2024-08-03T08:36:25.601869Z",
     "start_time": "2024-08-03T08:36:25.525949Z"
    }
   },
   "cell_type": "code",
   "source": [
    "x0 = np.arange(-3, 3, 0.1)\n",
    "x1 = np.arange(-3, 3, 0.1)\n",
    "X, Y = np.meshgrid(x0, x1)\n",
    "Z = function_2(np.array([X, Y]))\n",
    "\n",
    "fig = plt.figure()\n",
    "ax = fig.add_subplot(111, projection='3d')\n",
    "ax.plot_surface(X, Y, Z)\n",
    "plt.show()"
   ],
   "id": "cc0fef087ff2f251",
   "outputs": [
    {
     "data": {
      "text/plain": [
       "<Figure size 640x480 with 1 Axes>"
      ],
      "image/png": "[encoded data removed]"
     },
     "metadata": {},
     "output_type": "display_data"
    }
   ],
   "execution_count": 234
  },
  {
   "metadata": {},
   "cell_type": "markdown",
   "source": "문제1 : $x_0 = 3, x_1 = 4$일 때 $x_0$에 대한 편미분",
   "id": "a7bb75e7ed31438b"
  },
  {
   "metadata": {
    "ExecuteTime": {
     "end_time": "2024-08-03T08:36:25.604880Z",
     "start_time": "2024-08-03T08:36:25.602867Z"
    }
   },
   "cell_type": "code",
   "source": [
    "def function_tmp1(x0):\n",
    "    return x0*x0 + 4.0**2.0"
   ],
   "id": "4d59cf8a9227ceb3",
   "outputs": [],
   "execution_count": 235
  },
  {
   "metadata": {
    "ExecuteTime": {
     "end_time": "2024-08-03T08:36:25.607793Z",
     "start_time": "2024-08-03T08:36:25.605340Z"
    }
   },
   "cell_type": "code",
   "source": "numerical_diff(function_tmp1, 3.0)",
   "id": "6fafbf5205aae8c5",
   "outputs": [
    {
     "data": {
      "text/plain": [
       "6.00000000000378"
      ]
     },
     "execution_count": 236,
     "metadata": {},
     "output_type": "execute_result"
    }
   ],
   "execution_count": 236
  },
  {
   "metadata": {},
   "cell_type": "markdown",
   "source": "문제2 : $x_0 = 3, x_1 = 4$일 때 $x_1$에 대한 편미분",
   "id": "855d14a363d9e417"
  },
  {
   "metadata": {
    "ExecuteTime": {
     "end_time": "2024-08-03T08:36:25.610038Z",
     "start_time": "2024-08-03T08:36:25.608642Z"
    }
   },
   "cell_type": "code",
   "source": [
    "def function_tmp2(x1):\n",
    "    return 3.0**2.0 + x1*x1"
   ],
   "id": "f2009611613c0116",
   "outputs": [],
   "execution_count": 237
  },
  {
   "metadata": {
    "ExecuteTime": {
     "end_time": "2024-08-03T08:36:25.633047Z",
     "start_time": "2024-08-03T08:36:25.630566Z"
    }
   },
   "cell_type": "code",
   "source": "numerical_diff(function_tmp2, 4.0)",
   "id": "6ae98aac7313db1f",
   "outputs": [
    {
     "data": {
      "text/plain": [
       "7.999999999999119"
      ]
     },
     "execution_count": 238,
     "metadata": {},
     "output_type": "execute_result"
    }
   ],
   "execution_count": 238
  },
  {
   "metadata": {},
   "cell_type": "markdown",
   "source": [
    "### 4.4 기울기\n",
    "\n",
    "$$ \\left( \\frac{\\partial f}{\\partial x_0}, \\frac{\\partial f}{\\partial x_1} \\right) $$\n",
    "\n",
    "- 모든 변수의 편미분을 벡터로 정리한 것을 `기울기(gradient)`라고 한다."
   ],
   "id": "7a1365d258e044bd"
  },
  {
   "metadata": {
    "ExecuteTime": {
     "end_time": "2024-08-03T08:36:25.696978Z",
     "start_time": "2024-08-03T08:36:25.694792Z"
    }
   },
   "cell_type": "code",
   "source": [
    "def numerical_gradient(f, x):\n",
    "    h = 1e-4\n",
    "    grad = np.zeros_like(x)\n",
    "    \n",
    "    for idx in range(x.size):\n",
    "        tmp_val = x[idx]\n",
    "        \n",
    "        x[idx] = tmp_val + h\n",
    "        fxh1 = f(x)\n",
    "        \n",
    "        x[idx] = tmp_val - h\n",
    "        fxh2 = f(x)\n",
    "        \n",
    "        grad[idx] = (fxh1 - fxh2) / (2*h)\n",
    "        x[idx] = tmp_val\n",
    "    \n",
    "    return grad"
   ],
   "id": "2df17ae485c5ee23",
   "outputs": [],
   "execution_count": 239
  },
  {
   "metadata": {
    "ExecuteTime": {
     "end_time": "2024-08-03T08:36:25.724886Z",
     "start_time": "2024-08-03T08:36:25.722096Z"
    }
   },
   "cell_type": "code",
   "source": "numerical_gradient(function_2, np.array([3.0, 4.0]))",
   "id": "69fb162381aa36dd",
   "outputs": [
    {
     "data": {
      "text/plain": [
       "array([6., 8.])"
      ]
     },
     "execution_count": 240,
     "metadata": {},
     "output_type": "execute_result"
    }
   ],
   "execution_count": 240
  },
  {
   "metadata": {
    "ExecuteTime": {
     "end_time": "2024-08-03T08:36:25.765076Z",
     "start_time": "2024-08-03T08:36:25.762502Z"
    }
   },
   "cell_type": "code",
   "source": "numerical_gradient(function_2, np.array([0.0, 2.0]))",
   "id": "cce63b7b0f34c24c",
   "outputs": [
    {
     "data": {
      "text/plain": [
       "array([0., 4.])"
      ]
     },
     "execution_count": 241,
     "metadata": {},
     "output_type": "execute_result"
    }
   ],
   "execution_count": 241
  },
  {
   "metadata": {
    "ExecuteTime": {
     "end_time": "2024-08-03T08:36:25.779925Z",
     "start_time": "2024-08-03T08:36:25.777466Z"
    }
   },
   "cell_type": "code",
   "source": "numerical_gradient(function_2, np.array([3.0, 0.0]))",
   "id": "9185f23e77c1483d",
   "outputs": [
    {
     "data": {
      "text/plain": [
       "array([6., 0.])"
      ]
     },
     "execution_count": 242,
     "metadata": {},
     "output_type": "execute_result"
    }
   ],
   "execution_count": 242
  },
  {
   "metadata": {},
   "cell_type": "markdown",
   "source": [
    "#### 4.4.1 경사법(경사 하강법)\n",
    "\n",
    "- 기울기를 이용해 함수의 최솟값을 찾으려는 방법\n",
    "- 기울기가 가리키는 곳에 함수의 최솟값이 있다고 가정하고, 기울기가 가리키는 방향으로 일정 거리만큼 이동하고, 이 과정을 반복한다.\n",
    "$$ x_0 = x_0 - \\eta \\frac{\\partial f}{\\partial x_0} $$\n",
    "$$ x_1 = x_1 - \\eta \\frac{\\partial f}{\\partial x_1} $$\n",
    "- 학습률(learning rate)는 한 번의 학습으로 얼마만큼 학습해야 할지, 즉 매개변수 값을 얼마나 갱신할지를 정하는 것이다."
   ],
   "id": "31014f0f71ab6404"
  },
  {
   "metadata": {
    "ExecuteTime": {
     "end_time": "2024-08-03T08:36:25.804428Z",
     "start_time": "2024-08-03T08:36:25.802804Z"
    }
   },
   "cell_type": "code",
   "source": [
    "def gradient_descent(f, init_x, lr=0.01, step_num=100):\n",
    "    x = init_x\n",
    "    \n",
    "    for i in range(step_num):\n",
    "        grad = numerical_gradient(f, x)\n",
    "        x -= lr * grad\n",
    "    \n",
    "    return x"
   ],
   "id": "1a7286e7e31f602a",
   "outputs": [],
   "execution_count": 243
  },
  {
   "metadata": {},
   "cell_type": "markdown",
   "source": [
    "- 인수 f: 최적화하려는 함수\n",
    "- init_x: 초깃값\n",
    "- lr: 학습률\n",
    "- step_num: 경사법에 따른 반복 횟수"
   ],
   "id": "f93368468652679a"
  },
  {
   "metadata": {},
   "cell_type": "markdown",
   "source": "문제 : $f(x_0, x_1) = x_0^2 + x_1^2$의 최솟값 구하기",
   "id": "a437521d88b27d6a"
  },
  {
   "metadata": {
    "ExecuteTime": {
     "end_time": "2024-08-03T08:36:25.875851Z",
     "start_time": "2024-08-03T08:36:25.871323Z"
    }
   },
   "cell_type": "code",
   "source": [
    "init_x = np.array([-3.0, 4.0])\n",
    "gradient_descent(function_2, init_x=init_x, lr=0.1, step_num=100)"
   ],
   "id": "f5b3b2526d25e634",
   "outputs": [
    {
     "data": {
      "text/plain": [
       "array([-6.11110793e-10,  8.14814391e-10])"
      ]
     },
     "execution_count": 244,
     "metadata": {},
     "output_type": "execute_result"
    }
   ],
   "execution_count": 244
  },
  {
   "metadata": {
    "ExecuteTime": {
     "end_time": "2024-08-03T08:36:26.008459Z",
     "start_time": "2024-08-03T08:36:25.934889Z"
    }
   },
   "cell_type": "code",
   "source": [
    "def gradient_descent_graph(f, init_x, lr=0.01, step_num=100):\n",
    "    x = init_x\n",
    "    x_history = []\n",
    "\n",
    "    for i in range(step_num):\n",
    "        x_history.append( x.copy() )\n",
    "\n",
    "        grad = numerical_gradient(f, x)\n",
    "        x -= lr * grad\n",
    "\n",
    "    return x, np.array(x_history)\n",
    "\n",
    "init_x = np.array([-3.0, 4.0])\n",
    "lr = 0.1\n",
    "step_num = 20\n",
    "x, x_history = gradient_descent_graph(function_2, init_x, lr=lr, step_num=step_num)\n",
    "\n",
    "plt.plot([-5, 5], [0, 0], '--b')\n",
    "plt.plot([0, 0], [-5, 5], '--b')\n",
    "plt.plot(x_history[:, 0], x_history[:, 1], 'o')\n",
    "\n",
    "plt.xlim(-3.5, 3.5)\n",
    "plt.ylim(-4.5, 4.5)\n",
    "plt.xlabel(\"X0\")\n",
    "plt.ylabel(\"X1\")\n",
    "plt.show()"
   ],
   "id": "8d808ae3bca7fb70",
   "outputs": [
    {
     "data": {
      "text/plain": [
       "<Figure size 640x480 with 1 Axes>"
      ],
      "image/png": "[encoded data removed]"
     },
     "metadata": {},
     "output_type": "display_data"
    }
   ],
   "execution_count": 245
  },
  {
   "metadata": {},
   "cell_type": "markdown",
   "source": "- 학습률이 너무 큰 경우",
   "id": "e31c45cb0bc20d81"
  },
  {
   "metadata": {
    "ExecuteTime": {
     "end_time": "2024-08-03T08:36:26.012224Z",
     "start_time": "2024-08-03T08:36:26.009332Z"
    }
   },
   "cell_type": "code",
   "source": [
    "init_x = np.array([-3.0, 4.0])\n",
    "gradient_descent(function_2, init_x=init_x, lr=10.0, step_num=100)"
   ],
   "id": "e9ab7d5342d6c826",
   "outputs": [
    {
     "data": {
      "text/plain": [
       "array([-2.58983747e+13, -1.29524862e+12])"
      ]
     },
     "execution_count": 246,
     "metadata": {},
     "output_type": "execute_result"
    }
   ],
   "execution_count": 246
  },
  {
   "metadata": {
    "ExecuteTime": {
     "end_time": "2024-08-03T08:36:26.052716Z",
     "start_time": "2024-08-03T08:36:26.012702Z"
    }
   },
   "cell_type": "code",
   "source": [
    "init_x = np.array([-3.0, 4.0])\n",
    "lr = 10.0\n",
    "step_num = 20\n",
    "x, x_history = gradient_descent_graph(function_2, init_x, lr=lr, step_num=step_num)\n",
    "\n",
    "plt.plot([-5, 5], [0, 0], '--b')\n",
    "plt.plot([0, 0], [-5, 5], '--b')\n",
    "plt.plot(x_history[:, 0], x_history[:, 1], 'o')\n",
    "\n",
    "plt.xlim(-3.5, 3.5)\n",
    "plt.ylim(-4.5, 4.5)\n",
    "plt.xlabel(\"X0\")\n",
    "plt.ylabel(\"X1\")\n",
    "plt.show()"
   ],
   "id": "ff00c8326b1ed89",
   "outputs": [
    {
     "data": {
      "text/plain": [
       "<Figure size 640x480 with 1 Axes>"
      ],
      "image/png": "[encoded data removed]"
     },
     "metadata": {},
     "output_type": "display_data"
    }
   ],
   "execution_count": 247
  },
  {
   "metadata": {},
   "cell_type": "markdown",
   "source": "- 학습률이 너무 작은 경우\n",
   "id": "40a434839f0ad406"
  },
  {
   "metadata": {
    "ExecuteTime": {
     "end_time": "2024-08-03T08:36:26.056899Z",
     "start_time": "2024-08-03T08:36:26.053883Z"
    }
   },
   "cell_type": "code",
   "source": [
    "init_x = np.array([-3.0, 4.0])\n",
    "gradient_descent(function_2, init_x=init_x, lr=1e-10, step_num=100)"
   ],
   "id": "26d7b8eb49dfd5a1",
   "outputs": [
    {
     "data": {
      "text/plain": [
       "array([-2.99999994,  3.99999992])"
      ]
     },
     "execution_count": 248,
     "metadata": {},
     "output_type": "execute_result"
    }
   ],
   "execution_count": 248
  },
  {
   "metadata": {
    "ExecuteTime": {
     "end_time": "2024-08-03T08:36:26.096392Z",
     "start_time": "2024-08-03T08:36:26.057391Z"
    }
   },
   "cell_type": "code",
   "source": [
    "init_x = np.array([-3.0, 4.0])\n",
    "lr = 1e-10\n",
    "step_num = 20\n",
    "x, x_history = gradient_descent_graph(function_2, init_x, lr=lr, step_num=step_num)\n",
    "\n",
    "plt.plot([-5, 5], [0, 0], '--b')\n",
    "plt.plot([0, 0], [-5, 5], '--b')\n",
    "plt.plot(x_history[:, 0], x_history[:, 1], 'o')\n",
    "\n",
    "plt.xlim(-3.5, 3.5)\n",
    "plt.ylim(-4.5, 4.5)\n",
    "plt.xlabel(\"X0\")\n",
    "plt.ylabel(\"X1\")\n",
    "plt.show()"
   ],
   "id": "11151722a1cf6d6",
   "outputs": [
    {
     "data": {
      "text/plain": [
       "<Figure size 640x480 with 1 Axes>"
      ],
      "image/png": "[encoded data removed]"
     },
     "metadata": {},
     "output_type": "display_data"
    }
   ],
   "execution_count": 249
  },
  {
   "metadata": {},
   "cell_type": "markdown",
   "source": [
    "### 4.4.2 신경망에서의 기울기\n",
    "\n",
    "- 신경망에서의 기울기 = 가중치 매개변수에 대한 손실 함수의 기울기\n",
    "- 가중치 매개변수에 대한 손실 함수의 기울기를 구하고, 그 결과를 토대로 가중치 매개변수를 갱신하는 것이다."
   ],
   "id": "70c9df432569715a"
  },
  {
   "metadata": {
    "ExecuteTime": {
     "end_time": "2024-08-03T08:36:26.098497Z",
     "start_time": "2024-08-03T08:36:26.096951Z"
    }
   },
   "cell_type": "code",
   "source": [
    "import sys, os\n",
    "sys.path.append(os.pardir)\n",
    "import numpy as np\n",
    "from common.functions import softmax, cross_entropy_error\n",
    "from common.gradient import numerical_gradient"
   ],
   "id": "6929c28704aaede3",
   "outputs": [],
   "execution_count": 250
  },
  {
   "metadata": {
    "ExecuteTime": {
     "end_time": "2024-08-03T08:36:26.101468Z",
     "start_time": "2024-08-03T08:36:26.099498Z"
    }
   },
   "cell_type": "code",
   "source": [
    "class simpleNet:\n",
    "    def __init__(self):\n",
    "        self.W = np.random.randn(2, 3)\n",
    "    \n",
    "    def predict(self, x):\n",
    "        return np.dot(x, self.W)\n",
    "    \n",
    "    def loss(self, x, t):\n",
    "        z = self.predict(x)\n",
    "        y = softmax(z)\n",
    "        loss = cross_entropy_error(y, t)\n",
    "        \n",
    "        return loss"
   ],
   "id": "391e4a1ed71e7c37",
   "outputs": [],
   "execution_count": 251
  },
  {
   "metadata": {
    "ExecuteTime": {
     "end_time": "2024-08-03T08:36:26.132883Z",
     "start_time": "2024-08-03T08:36:26.130848Z"
    }
   },
   "cell_type": "code",
   "source": "net = simpleNet()",
   "id": "dd925358d665e2e7",
   "outputs": [],
   "execution_count": 252
  },
  {
   "metadata": {
    "ExecuteTime": {
     "end_time": "2024-08-03T08:36:26.165881Z",
     "start_time": "2024-08-03T08:36:26.164321Z"
    }
   },
   "cell_type": "code",
   "source": "print(net.W) # 가중치 매개변수",
   "id": "bef9ac39f5a2561f",
   "outputs": [
    {
     "name": "stdout",
     "output_type": "stream",
     "text": [
      "[[-1.18034637 -0.16635392 -0.51153646]\n",
      " [ 0.15122311 -1.52007685  0.03171987]]\n"
     ]
    }
   ],
   "execution_count": 253
  },
  {
   "metadata": {
    "ExecuteTime": {
     "end_time": "2024-08-03T08:36:26.262895Z",
     "start_time": "2024-08-03T08:36:26.260958Z"
    }
   },
   "cell_type": "code",
   "source": [
    "x = np.array([0.6, 0.9])\n",
    "p = net.predict(x)\n",
    "print(p) # 예측값"
   ],
   "id": "1ebe531cdea010ed",
   "outputs": [
    {
     "name": "stdout",
     "output_type": "stream",
     "text": [
      "[-0.57210702 -1.46788151 -0.27837399]\n"
     ]
    }
   ],
   "execution_count": 254
  },
  {
   "metadata": {
    "ExecuteTime": {
     "end_time": "2024-08-03T08:36:26.291165Z",
     "start_time": "2024-08-03T08:36:26.289128Z"
    }
   },
   "cell_type": "code",
   "source": "np.argmax(p) # 최댓값의 인덱스",
   "id": "6c43681f6d7c7a4d",
   "outputs": [
    {
     "data": {
      "text/plain": [
       "2"
      ]
     },
     "execution_count": 255,
     "metadata": {},
     "output_type": "execute_result"
    }
   ],
   "execution_count": 255
  },
  {
   "metadata": {
    "ExecuteTime": {
     "end_time": "2024-08-03T08:36:26.308564Z",
     "start_time": "2024-08-03T08:36:26.306405Z"
    }
   },
   "cell_type": "code",
   "source": [
    "t = np.array([0, 0, 1]) # 정답 레이블\n",
    "net.loss(x, t)"
   ],
   "id": "d6083dec899f3e94",
   "outputs": [
    {
     "data": {
      "text/plain": [
       "0.717764759079433"
      ]
     },
     "execution_count": 256,
     "metadata": {},
     "output_type": "execute_result"
    }
   ],
   "execution_count": 256
  },
  {
   "metadata": {
    "ExecuteTime": {
     "end_time": "2024-08-03T08:36:26.335996Z",
     "start_time": "2024-08-03T08:36:26.334556Z"
    }
   },
   "cell_type": "code",
   "source": [
    "def f(W):\n",
    "    return net.loss(x, t)"
   ],
   "id": "ad7a9b3baca86ca6",
   "outputs": [],
   "execution_count": 257
  },
  {
   "metadata": {
    "ExecuteTime": {
     "end_time": "2024-08-03T08:36:26.377568Z",
     "start_time": "2024-08-03T08:36:26.375524Z"
    }
   },
   "cell_type": "code",
   "source": [
    "dW = numerical_gradient(f, net.W)\n",
    "print(dW)"
   ],
   "id": "e14065c9ca2ed192",
   "outputs": [
    {
     "name": "stdout",
     "output_type": "stream",
     "text": [
      "[[ 0.21820423  0.08909088 -0.30729511]\n",
      " [ 0.32730634  0.13363632 -0.46094266]]\n"
     ]
    }
   ],
   "execution_count": 258
  },
  {
   "metadata": {
    "ExecuteTime": {
     "end_time": "2024-08-03T08:36:26.393890Z",
     "start_time": "2024-08-03T08:36:26.391924Z"
    }
   },
   "cell_type": "code",
   "source": [
    "f = lambda w: net.loss(x, t)\n",
    "dW = numerical_gradient(f, net.W)"
   ],
   "id": "385f9c2174428ff4",
   "outputs": [],
   "execution_count": 259
  },
  {
   "metadata": {
    "ExecuteTime": {
     "end_time": "2024-08-03T08:36:26.412706Z",
     "start_time": "2024-08-03T08:36:26.411097Z"
    }
   },
   "cell_type": "code",
   "source": "print(dW)",
   "id": "e5aff05a6da37587",
   "outputs": [
    {
     "name": "stdout",
     "output_type": "stream",
     "text": [
      "[[ 0.21820423  0.08909088 -0.30729511]\n",
      " [ 0.32730634  0.13363632 -0.46094266]]\n"
     ]
    }
   ],
   "execution_count": 260
  },
  {
   "metadata": {},
   "cell_type": "markdown",
   "source": [
    "### 4.5 학습 알고리즘 구현하기\n",
    "\n",
    "신경망 학습의 절차\n",
    "- 전제\n",
    "    - 신경망에는 적응 가능한 가중치와 편향이 있고, 이 가중치와 편향을 훈련 데이터에 적응하도록 조정하는 과정을 '학습'이라 함\n",
    "- 1단계 미니배치\n",
    "    - 훈련 데이터 중 일부를 무작위로 가져옴\n",
    "- 2단계 기울기 산출\n",
    "    - 미니배치의 손실 함수 값을 줄이기 위해 각 가중치 매개변수의 기울기를 구함\n",
    "- 3단계 매개변수 갱신\n",
    "    - 가중치 매개변수를 기울기 방향으로 아주 조금 갱신\n",
    "- 반복\n",
    "    - 1~3단계를 반복\n",
    "\n",
    "#### 4.5.1 2층 신경망 클래스 구현하기"
   ],
   "id": "5f5a241716f64cfa"
  },
  {
   "metadata": {
    "ExecuteTime": {
     "end_time": "2024-08-03T08:36:26.437053Z",
     "start_time": "2024-08-03T08:36:26.435529Z"
    }
   },
   "cell_type": "code",
   "source": [
    "import sys, os\n",
    "sys.path.append(os.pardir)\n",
    "import numpy as np\n",
    "from common.functions import *\n",
    "from common.gradient import numerical_gradient"
   ],
   "id": "459d1093e53b27d1",
   "outputs": [],
   "execution_count": 261
  },
  {
   "metadata": {
    "ExecuteTime": {
     "end_time": "2024-08-03T08:36:26.467771Z",
     "start_time": "2024-08-03T08:36:26.464837Z"
    }
   },
   "cell_type": "code",
   "source": [
    "class TwoLayerNet:\n",
    "    def __init__(self, input_size, hidden_size, output_size, weight_init_std=0.01):\n",
    "        self.params = {}\n",
    "        self.params['W1'] = weight_init_std * np.random.randn(input_size, hidden_size)\n",
    "        self.params['b1'] = np.zeros(hidden_size)\n",
    "        self.params['W2'] = weight_init_std * np.random.randn(hidden_size, output_size)\n",
    "        self.params['b2'] = np.zeros(output_size)\n",
    "    \n",
    "    def predict(self, x):\n",
    "        W1, W2 = self.params['W1'], self.params['W2']\n",
    "        b1, b2 = self.params['b1'], self.params['b2']\n",
    "        \n",
    "        a1 = np.dot(x, W1) + b1\n",
    "        z1 = sigmoid(a1)\n",
    "        a2 = np.dot(z1, W2) + b2\n",
    "        y = softmax(a2)\n",
    "        \n",
    "        return y\n",
    "    \n",
    "    def loss(self, x, t):\n",
    "        y = self.predict(x)\n",
    "        \n",
    "        return cross_entropy_error(y, t)\n",
    "    \n",
    "    def accuracy(self, x, t):\n",
    "        y = self.predict(x)\n",
    "        y = np.argmax(y, axis=1)\n",
    "        t = np.argmax(t, axis=1)\n",
    "        \n",
    "        accuracy = np.sum(y == t) / float(x.shape[0])\n",
    "        return accuracy\n",
    "    \n",
    "    def numerical_gradient(self, x, t):\n",
    "        loss_W = lambda W: self.loss(x, t)\n",
    "        \n",
    "        grads = {}\n",
    "        grads['W1'] = numerical_gradient(loss_W, self.params['W1'])\n",
    "        grads['b1'] = numerical_gradient(loss_W, self.params['b1'])\n",
    "        grads['W2'] = numerical_gradient(loss_W, self.params['W2'])\n",
    "        grads['b2'] = numerical_gradient(loss_W, self.params['b2'])\n",
    "                \n",
    "        return grads"
   ],
   "id": "5263d08f512f0826",
   "outputs": [],
   "execution_count": 262
  },
  {
   "metadata": {
    "ExecuteTime": {
     "end_time": "2024-08-03T08:36:26.493343Z",
     "start_time": "2024-08-03T08:36:26.490904Z"
    }
   },
   "cell_type": "code",
   "source": "net = TwoLayerNet(input_size=784, hidden_size=100, output_size=10)",
   "id": "dae1bf34b6d87b62",
   "outputs": [],
   "execution_count": 263
  },
  {
   "metadata": {
    "ExecuteTime": {
     "end_time": "2024-08-03T08:36:26.516723Z",
     "start_time": "2024-08-03T08:36:26.514533Z"
    }
   },
   "cell_type": "code",
   "source": "net.params['W1'].shape",
   "id": "bbe265f5ba71e685",
   "outputs": [
    {
     "data": {
      "text/plain": [
       "(784, 100)"
      ]
     },
     "execution_count": 264,
     "metadata": {},
     "output_type": "execute_result"
    }
   ],
   "execution_count": 264
  },
  {
   "metadata": {
    "ExecuteTime": {
     "end_time": "2024-08-03T08:36:26.551169Z",
     "start_time": "2024-08-03T08:36:26.549206Z"
    }
   },
   "cell_type": "code",
   "source": "net.params['b1'].shape",
   "id": "17d709235066ce1a",
   "outputs": [
    {
     "data": {
      "text/plain": [
       "(100,)"
      ]
     },
     "execution_count": 265,
     "metadata": {},
     "output_type": "execute_result"
    }
   ],
   "execution_count": 265
  },
  {
   "metadata": {
    "ExecuteTime": {
     "end_time": "2024-08-03T08:36:26.566088Z",
     "start_time": "2024-08-03T08:36:26.564378Z"
    }
   },
   "cell_type": "code",
   "source": "net.params['W2'].shape",
   "id": "d4c4c3ea573d0126",
   "outputs": [
    {
     "data": {
      "text/plain": [
       "(100, 10)"
      ]
     },
     "execution_count": 266,
     "metadata": {},
     "output_type": "execute_result"
    }
   ],
   "execution_count": 266
  },
  {
   "metadata": {
    "ExecuteTime": {
     "end_time": "2024-08-03T08:36:26.590094Z",
     "start_time": "2024-08-03T08:36:26.588194Z"
    }
   },
   "cell_type": "code",
   "source": "net.params['b2'].shape",
   "id": "ec00547971267b3f",
   "outputs": [
    {
     "data": {
      "text/plain": [
       "(10,)"
      ]
     },
     "execution_count": 267,
     "metadata": {},
     "output_type": "execute_result"
    }
   ],
   "execution_count": 267
  },
  {
   "metadata": {
    "ExecuteTime": {
     "end_time": "2024-08-03T08:36:26.639691Z",
     "start_time": "2024-08-03T08:36:26.626805Z"
    }
   },
   "cell_type": "code",
   "source": [
    "x = np.random.rand(100, 784)\n",
    "y = net.predict(x)"
   ],
   "id": "3d1955a8fa7eadf3",
   "outputs": [],
   "execution_count": 268
  },
  {
   "metadata": {
    "ExecuteTime": {
     "end_time": "2024-08-03T08:36:26.699439Z",
     "start_time": "2024-08-03T08:36:26.686923Z"
    }
   },
   "cell_type": "code",
   "source": [
    "x = np.random.rand(100, 784)\n",
    "t = np.random.rand(100, 10)"
   ],
   "id": "65bf76d5570eae70",
   "outputs": [],
   "execution_count": 269
  },
  {
   "metadata": {
    "ExecuteTime": {
     "end_time": "2024-08-03T08:38:30.738385Z",
     "start_time": "2024-08-03T08:36:26.777832Z"
    }
   },
   "cell_type": "code",
   "source": "grads = net.numerical_gradient(x, t)",
   "id": "5be6d8fc22b16703",
   "outputs": [],
   "execution_count": 270
  },
  {
   "metadata": {
    "ExecuteTime": {
     "end_time": "2024-08-03T08:38:30.751743Z",
     "start_time": "2024-08-03T08:38:30.745953Z"
    }
   },
   "cell_type": "code",
   "source": "grads['W1'].shape",
   "id": "754d8d12482d724b",
   "outputs": [
    {
     "data": {
      "text/plain": [
       "(784, 100)"
      ]
     },
     "execution_count": 271,
     "metadata": {},
     "output_type": "execute_result"
    }
   ],
   "execution_count": 271
  },
  {
   "metadata": {
    "ExecuteTime": {
     "end_time": "2024-08-03T08:38:30.755816Z",
     "start_time": "2024-08-03T08:38:30.752937Z"
    }
   },
   "cell_type": "code",
   "source": "grads['b1'].shape",
   "id": "afb47b34bb797191",
   "outputs": [
    {
     "data": {
      "text/plain": [
       "(100,)"
      ]
     },
     "execution_count": 272,
     "metadata": {},
     "output_type": "execute_result"
    }
   ],
   "execution_count": 272
  },
  {
   "metadata": {
    "ExecuteTime": {
     "end_time": "2024-08-03T08:38:30.765643Z",
     "start_time": "2024-08-03T08:38:30.761979Z"
    }
   },
   "cell_type": "code",
   "source": "grads['W2'].shape",
   "id": "e766df7b22ebad83",
   "outputs": [
    {
     "data": {
      "text/plain": [
       "(100, 10)"
      ]
     },
     "execution_count": 273,
     "metadata": {},
     "output_type": "execute_result"
    }
   ],
   "execution_count": 273
  },
  {
   "metadata": {
    "ExecuteTime": {
     "end_time": "2024-08-03T08:38:30.769955Z",
     "start_time": "2024-08-03T08:38:30.766918Z"
    }
   },
   "cell_type": "code",
   "source": "grads['b2'].shape",
   "id": "7055d40f8842e0db",
   "outputs": [
    {
     "data": {
      "text/plain": [
       "(10,)"
      ]
     },
     "execution_count": 274,
     "metadata": {},
     "output_type": "execute_result"
    }
   ],
   "execution_count": 274
  },
  {
   "metadata": {},
   "cell_type": "markdown",
   "source": "#### 4.5.2 미니배치 학습 구현하기",
   "id": "f21b2a5db2748864"
  },
  {
   "metadata": {
    "ExecuteTime": {
     "end_time": "2024-08-03T08:38:30.856085Z",
     "start_time": "2024-08-03T08:38:30.771054Z"
    }
   },
   "cell_type": "code",
   "source": [
    "from dataset.mnist import load_mnist\n",
    "from tqdm import trange, notebook\n",
    "\n",
    "(x_train, t_train), (x_test, t_test) = load_mnist(normalize=True, one_hot_label=True)\n",
    "\n",
    "train_loss_list = []"
   ],
   "id": "149885f51ffa45a1",
   "outputs": [],
   "execution_count": 275
  },
  {
   "metadata": {
    "ExecuteTime": {
     "end_time": "2024-08-03T08:38:30.861595Z",
     "start_time": "2024-08-03T08:38:30.857723Z"
    }
   },
   "cell_type": "code",
   "source": [
    "iters_num = 100\n",
    "train_size = x_train.shape[0]\n",
    "batch_size = 10\n",
    "learning_rate = 0.1\n",
    "network = TwoLayerNet(input_size=784, hidden_size=50, output_size=10)"
   ],
   "id": "407a1e3e778f0194",
   "outputs": [],
   "execution_count": 276
  },
  {
   "metadata": {
    "ExecuteTime": {
     "end_time": "2024-08-03T09:09:30.347864Z",
     "start_time": "2024-08-03T08:38:30.863114Z"
    }
   },
   "cell_type": "code",
   "source": [
    "for i in notebook.tqdm(range(iters_num)):\n",
    "    # 미니배치 획득\n",
    "    batch_mask = np.random.choice(train_size, batch_size)\n",
    "    x_batch = x_train[batch_mask]\n",
    "    t_batch = t_train[batch_mask]\n",
    "    \n",
    "    # 기울기 계산\n",
    "    grad = network.numerical_gradient(x_batch, t_batch)\n",
    "    \n",
    "    # 매개변수 갱신\n",
    "    for key in ('W1', 'b1', 'W2', 'b2'):\n",
    "        network.params[key] -= learning_rate * grad[key]\n",
    "    \n",
    "    # 학습 경과 기록\n",
    "    loss = network.loss(x_batch, t_batch)\n",
    "    train_loss_list.append(loss)"
   ],
   "id": "de242d3dde902a0c",
   "outputs": [
    {
     "data": {
      "text/plain": [
       "  0%|          | 0/100 [00:00<?, ?it/s]"
      ],
      "application/vnd.jupyter.widget-view+json": {
       "version_major": 2,
       "version_minor": 0,
       "model_id": "1eb4eb1af882485d867358c5983deb8d"
      }
     },
     "metadata": {},
     "output_type": "display_data"
    }
   ],
   "execution_count": 277
  },
  {
   "metadata": {
    "ExecuteTime": {
     "end_time": "2024-08-03T09:09:30.353741Z",
     "start_time": "2024-08-03T09:09:30.349710Z"
    }
   },
   "cell_type": "code",
   "source": "len(train_loss_list)",
   "id": "6c8a23fbad758695",
   "outputs": [
    {
     "data": {
      "text/plain": [
       "100"
      ]
     },
     "execution_count": 278,
     "metadata": {},
     "output_type": "execute_result"
    }
   ],
   "execution_count": 278
  },
  {
   "metadata": {
    "ExecuteTime": {
     "end_time": "2024-08-03T09:09:30.437222Z",
     "start_time": "2024-08-03T09:09:30.362186Z"
    }
   },
   "cell_type": "code",
   "source": [
    "# 그래프 그리기\n",
    "import matplotlib.pyplot as plt\n",
    "\n",
    "x = np.arange(len(train_loss_list))\n",
    "plt.plot(x, train_loss_list)\n",
    "plt.xlabel(\"iteration\")\n",
    "plt.ylabel(\"loss\")\n",
    "plt.show()"
   ],
   "id": "20cfef207bfb7f24",
   "outputs": [
    {
     "data": {
      "text/plain": [
       "<Figure size 640x480 with 1 Axes>"
      ],
      "image/png": "[encoded data removed]"
     },
     "metadata": {},
     "output_type": "display_data"
    }
   ],
   "execution_count": 279
  },
  {
   "metadata": {},
   "cell_type": "markdown",
   "source": "#### 4.5.3 시험 데이터로 평가하기",
   "id": "3926d9c10383ae4f"
  },
  {
   "metadata": {
    "ExecuteTime": {
     "end_time": "2024-08-03T09:09:30.514240Z",
     "start_time": "2024-08-03T09:09:30.438482Z"
    }
   },
   "cell_type": "code",
   "source": [
    "# (x_train, t_train), (x_test, t_test) = load_mnist(normalize=True, one_hot_label=True)\n",
    "# \n",
    "# network = TwoLayerNet(input_size=784, hidden_size=50, output_size=10)\n",
    "# \n",
    "# train_loss_list = []\n",
    "# train_acc_list = []\n",
    "# test_acc_list = []\n",
    "# \n",
    "# # 하나의 에폭당 반복 수\n",
    "# iter_per_epoch = max(train_size / batch_size, 1)"
   ],
   "id": "7fde0cf19941d649",
   "outputs": [],
   "execution_count": 280
  },
  {
   "metadata": {
    "ExecuteTime": {
     "end_time": "2024-08-03T09:09:30.521437Z",
     "start_time": "2024-08-03T09:09:30.517563Z"
    }
   },
   "cell_type": "code",
   "source": [
    "# iters_num = 100\n",
    "# train_size = x_train.shape[0]\n",
    "# batch_size = 10\n",
    "# learning_rate = 0.1"
   ],
   "id": "d93eb800ffd60625",
   "outputs": [],
   "execution_count": 281
  },
  {
   "metadata": {
    "jupyter": {
     "is_executing": true
    },
    "ExecuteTime": {
     "start_time": "2024-08-03T09:09:30.523826Z"
    }
   },
   "cell_type": "code",
   "source": [
    "# for i in notebook.tqdm(range(iters_num)):\n",
    "#     # 미니배치 획득\n",
    "#     batch_mask = np.random.choice(train_size, batch_size)\n",
    "#     x_batch = x_train[batch_mask]\n",
    "#     t_batch = t_train[batch_mask]\n",
    "#     \n",
    "#     # 기울기 계산\n",
    "#     grad = network.numerical_gradient(x_batch, t_batch)\n",
    "#     \n",
    "#     # 매개변수 갱신\n",
    "#     for key in ('W1', 'b1', 'W2', 'b2'):\n",
    "#         network.params[key] -= learning_rate * grad[key]\n",
    "#     \n",
    "#     # 학습 경과 기록\n",
    "#     loss = network.loss(x_batch, t_batch)\n",
    "#     train_loss_list.append(loss)\n",
    "#     \n",
    "#     # 1 에폭당 정확도 계산\n",
    "#     if i % iter_per_epoch == 0:\n",
    "#         train_acc = network.accuracy(x_train, t_train)\n",
    "#         test_acc = network.accuracy(x_test, t_test)\n",
    "#         train_acc_list.append(train_acc)\n",
    "#         test_acc_list.append(test_acc)\n",
    "#         print(\"train acc, test acc | \" + str(train_acc) + \", \" + str(test_acc))"
   ],
   "id": "6ef1da58e3368a29",
   "outputs": [
    {
     "data": {
      "text/plain": [
       "  0%|          | 0/100 [00:00<?, ?it/s]"
      ],
      "application/vnd.jupyter.widget-view+json": {
       "version_major": 2,
       "version_minor": 0,
       "model_id": "517fa90ffca7484f9327664d5526ae52"
      }
     },
     "metadata": {},
     "output_type": "display_data"
    },
    {
     "name": "stdout",
     "output_type": "stream",
     "text": [
      "train acc, test acc | 0.09035, 0.0892\n"
     ]
    }
   ],
   "execution_count": null
  },
  {
   "metadata": {
    "jupyter": {
     "is_executing": true
    }
   },
   "cell_type": "code",
   "source": "# len(train_acc_list)",
   "id": "2b470de44f841d0c",
   "outputs": [],
   "execution_count": null
  },
  {
   "metadata": {
    "jupyter": {
     "is_executing": true
    }
   },
   "cell_type": "code",
   "source": [
    "# 그래프 그리기\n",
    "# x = np.arange(len(train_acc_list))\n",
    "# plt.plot(x, train_acc_list, label='train acc')\n",
    "# plt.plot(x, test_acc_list, label='test acc', linestyle='--')\n",
    "# plt.xlabel(\"epochs\")\n",
    "# plt.ylabel(\"accuracy\")\n",
    "# plt.legend(loc='lower right')\n",
    "# plt.show()"
   ],
   "id": "bd3986114ed0ec7d",
   "outputs": [],
   "execution_count": null
  },
  {
   "metadata": {
    "jupyter": {
     "is_executing": true
    }
   },
   "cell_type": "code",
   "source": "",
   "id": "280f90270bf980bc",
   "outputs": [],
   "execution_count": null
  }
 ],
 "metadata": {
  "kernelspec": {
   "display_name": "Python 3",
   "language": "python",
   "name": "python3"
  },
  "language_info": {
   "codemirror_mode": {
    "name": "ipython",
    "version": 2
   },
   "file_extension": ".py",
   "mimetype": "text/x-python",
   "name": "python",
   "nbconvert_exporter": "python",
   "pygments_lexer": "ipython2",
   "version": "2.7.6"
  }
 },
 "nbformat": 4,
 "nbformat_minor": 5
}
