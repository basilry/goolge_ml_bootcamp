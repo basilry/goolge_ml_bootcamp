{
 "cells": [
  {
   "cell_type": "markdown",
   "id": "f393f68e",
   "metadata": {
    "papermill": {
     "duration": 0.011478,
     "end_time": "2024-07-13T00:14:47.891892",
     "exception": false,
     "start_time": "2024-07-13T00:14:47.880414",
     "status": "completed"
    },
    "tags": []
   },
   "source": [
    "# Binary Classification with a Bank Churn Dataset\n",
    "---"
   ]
  },
  {
   "cell_type": "markdown",
   "id": "fb8b08f7",
   "metadata": {
    "papermill": {
     "duration": 0.009666,
     "end_time": "2024-07-13T00:14:47.911898",
     "exception": false,
     "start_time": "2024-07-13T00:14:47.902232",
     "status": "completed"
    },
    "tags": []
   },
   "source": [
    "## 1. Import Basic Libraries & Set Data Paths\n",
    "- 기본 라이브러리 import & 데이터 경로 셋"
   ]
  },
  {
   "cell_type": "code",
   "id": "a1523b1b",
   "metadata": {
    "_cell_guid": "b1076dfc-b9ad-4769-8c92-a6c4dae69d19",
    "_uuid": "8f2839f25d086af736a60e9eeb907d3b93b6e0e5",
    "execution": {
     "iopub.execute_input": "2024-07-13T00:14:47.933796Z",
     "iopub.status.busy": "2024-07-13T00:14:47.933343Z",
     "iopub.status.idle": "2024-07-13T00:14:48.874105Z",
     "shell.execute_reply": "2024-07-13T00:14:48.872975Z"
    },
    "papermill": {
     "duration": 0.955982,
     "end_time": "2024-07-13T00:14:48.877772",
     "exception": false,
     "start_time": "2024-07-13T00:14:47.921790",
     "status": "completed"
    },
    "tags": [],
    "ExecuteTime": {
     "end_time": "2024-07-13T12:07:37.485793Z",
     "start_time": "2024-07-13T12:07:33.978069Z"
    }
   },
   "source": [
    "import numpy as np\n",
    "import pandas as pd\n",
    "import os\n",
    "\n",
    "for dirname, _, filenames in os.walk('/kaggle/input'):\n",
    "    for filename in filenames:\n",
    "        print(os.path.join(dirname, filename))"
   ],
   "outputs": [],
   "execution_count": 1
  },
  {
   "cell_type": "code",
   "id": "072a74e2",
   "metadata": {
    "execution": {
     "iopub.execute_input": "2024-07-13T00:14:48.900378Z",
     "iopub.status.busy": "2024-07-13T00:14:48.899858Z",
     "iopub.status.idle": "2024-07-13T00:14:50.113718Z",
     "shell.execute_reply": "2024-07-13T00:14:50.112436Z"
    },
    "papermill": {
     "duration": 1.229211,
     "end_time": "2024-07-13T00:14:50.117503",
     "exception": false,
     "start_time": "2024-07-13T00:14:48.888292",
     "status": "completed"
    },
    "tags": [],
    "ExecuteTime": {
     "end_time": "2024-07-13T12:10:32.406191Z",
     "start_time": "2024-07-13T12:10:32.198072Z"
    }
   },
   "source": [
    "# 데이터 파일 경로\n",
    "sample_path = 'sample_submission.csv'\n",
    "train_path = 'train.csv'\n",
    "test_path = 'test.csv'\n",
    "origin_path = 'train.csv'  # origin 데이터셋 경로가 필요함\n",
    "\n",
    "# 데이터 읽기\n",
    "sample = pd.read_csv(sample_path)\n",
    "train = pd.read_csv(train_path)\n",
    "test = pd.read_csv(test_path)\n",
    "origin = pd.read_csv(origin_path)"
   ],
   "outputs": [],
   "execution_count": 6
  },
  {
   "cell_type": "code",
   "id": "3a032198",
   "metadata": {
    "execution": {
     "iopub.execute_input": "2024-07-13T00:14:50.145510Z",
     "iopub.status.busy": "2024-07-13T00:14:50.144441Z",
     "iopub.status.idle": "2024-07-13T00:14:50.170589Z",
     "shell.execute_reply": "2024-07-13T00:14:50.169291Z"
    },
    "papermill": {
     "duration": 0.041349,
     "end_time": "2024-07-13T00:14:50.173181",
     "exception": false,
     "start_time": "2024-07-13T00:14:50.131832",
     "status": "completed"
    },
    "tags": [],
    "ExecuteTime": {
     "end_time": "2024-07-13T12:10:33.511592Z",
     "start_time": "2024-07-13T12:10:33.506738Z"
    }
   },
   "source": [
    "sample.head()"
   ],
   "outputs": [
    {
     "data": {
      "text/plain": [
       "       id  Exited\n",
       "0  165034     0.5\n",
       "1  165035     0.5\n",
       "2  165036     0.5\n",
       "3  165037     0.5\n",
       "4  165038     0.5"
      ],
      "text/html": [
       "<div>\n",
       "<style scoped>\n",
       "    .dataframe tbody tr th:only-of-type {\n",
       "        vertical-align: middle;\n",
       "    }\n",
       "\n",
       "    .dataframe tbody tr th {\n",
       "        vertical-align: top;\n",
       "    }\n",
       "\n",
       "    .dataframe thead th {\n",
       "        text-align: right;\n",
       "    }\n",
       "</style>\n",
       "<table border=\"1\" class=\"dataframe\">\n",
       "  <thead>\n",
       "    <tr style=\"text-align: right;\">\n",
       "      <th></th>\n",
       "      <th>id</th>\n",
       "      <th>Exited</th>\n",
       "    </tr>\n",
       "  </thead>\n",
       "  <tbody>\n",
       "    <tr>\n",
       "      <th>0</th>\n",
       "      <td>165034</td>\n",
       "      <td>0.5</td>\n",
       "    </tr>\n",
       "    <tr>\n",
       "      <th>1</th>\n",
       "      <td>165035</td>\n",
       "      <td>0.5</td>\n",
       "    </tr>\n",
       "    <tr>\n",
       "      <th>2</th>\n",
       "      <td>165036</td>\n",
       "      <td>0.5</td>\n",
       "    </tr>\n",
       "    <tr>\n",
       "      <th>3</th>\n",
       "      <td>165037</td>\n",
       "      <td>0.5</td>\n",
       "    </tr>\n",
       "    <tr>\n",
       "      <th>4</th>\n",
       "      <td>165038</td>\n",
       "      <td>0.5</td>\n",
       "    </tr>\n",
       "  </tbody>\n",
       "</table>\n",
       "</div>"
      ]
     },
     "execution_count": 7,
     "metadata": {},
     "output_type": "execute_result"
    }
   ],
   "execution_count": 7
  },
  {
   "cell_type": "code",
   "id": "0f627f80",
   "metadata": {
    "execution": {
     "iopub.execute_input": "2024-07-13T00:14:50.196353Z",
     "iopub.status.busy": "2024-07-13T00:14:50.195380Z",
     "iopub.status.idle": "2024-07-13T00:14:50.220084Z",
     "shell.execute_reply": "2024-07-13T00:14:50.218894Z"
    },
    "papermill": {
     "duration": 0.039084,
     "end_time": "2024-07-13T00:14:50.222584",
     "exception": false,
     "start_time": "2024-07-13T00:14:50.183500",
     "status": "completed"
    },
    "tags": [],
    "ExecuteTime": {
     "end_time": "2024-07-13T12:10:34.240039Z",
     "start_time": "2024-07-13T12:10:34.232748Z"
    }
   },
   "source": [
    "test.head()"
   ],
   "outputs": [
    {
     "data": {
      "text/plain": [
       "       id  CustomerId    Surname  CreditScore Geography  Gender   Age  Tenure  \\\n",
       "0  165034    15773898   Lucchese          586    France  Female  23.0       2   \n",
       "1  165035    15782418       Nott          683    France  Female  46.0       2   \n",
       "2  165036    15807120         K?          656    France  Female  34.0       7   \n",
       "3  165037    15808905  O'Donnell          681    France    Male  36.0       8   \n",
       "4  165038    15607314    Higgins          752   Germany    Male  38.0      10   \n",
       "\n",
       "     Balance  NumOfProducts  HasCrCard  IsActiveMember  EstimatedSalary  \n",
       "0       0.00              2        0.0             1.0        160976.75  \n",
       "1       0.00              1        1.0             0.0         72549.27  \n",
       "2       0.00              2        1.0             0.0        138882.09  \n",
       "3       0.00              1        1.0             0.0        113931.57  \n",
       "4  121263.62              1        1.0             0.0        139431.00  "
      ],
      "text/html": [
       "<div>\n",
       "<style scoped>\n",
       "    .dataframe tbody tr th:only-of-type {\n",
       "        vertical-align: middle;\n",
       "    }\n",
       "\n",
       "    .dataframe tbody tr th {\n",
       "        vertical-align: top;\n",
       "    }\n",
       "\n",
       "    .dataframe thead th {\n",
       "        text-align: right;\n",
       "    }\n",
       "</style>\n",
       "<table border=\"1\" class=\"dataframe\">\n",
       "  <thead>\n",
       "    <tr style=\"text-align: right;\">\n",
       "      <th></th>\n",
       "      <th>id</th>\n",
       "      <th>CustomerId</th>\n",
       "      <th>Surname</th>\n",
       "      <th>CreditScore</th>\n",
       "      <th>Geography</th>\n",
       "      <th>Gender</th>\n",
       "      <th>Age</th>\n",
       "      <th>Tenure</th>\n",
       "      <th>Balance</th>\n",
       "      <th>NumOfProducts</th>\n",
       "      <th>HasCrCard</th>\n",
       "      <th>IsActiveMember</th>\n",
       "      <th>EstimatedSalary</th>\n",
       "    </tr>\n",
       "  </thead>\n",
       "  <tbody>\n",
       "    <tr>\n",
       "      <th>0</th>\n",
       "      <td>165034</td>\n",
       "      <td>15773898</td>\n",
       "      <td>Lucchese</td>\n",
       "      <td>586</td>\n",
       "      <td>France</td>\n",
       "      <td>Female</td>\n",
       "      <td>23.0</td>\n",
       "      <td>2</td>\n",
       "      <td>0.00</td>\n",
       "      <td>2</td>\n",
       "      <td>0.0</td>\n",
       "      <td>1.0</td>\n",
       "      <td>160976.75</td>\n",
       "    </tr>\n",
       "    <tr>\n",
       "      <th>1</th>\n",
       "      <td>165035</td>\n",
       "      <td>15782418</td>\n",
       "      <td>Nott</td>\n",
       "      <td>683</td>\n",
       "      <td>France</td>\n",
       "      <td>Female</td>\n",
       "      <td>46.0</td>\n",
       "      <td>2</td>\n",
       "      <td>0.00</td>\n",
       "      <td>1</td>\n",
       "      <td>1.0</td>\n",
       "      <td>0.0</td>\n",
       "      <td>72549.27</td>\n",
       "    </tr>\n",
       "    <tr>\n",
       "      <th>2</th>\n",
       "      <td>165036</td>\n",
       "      <td>15807120</td>\n",
       "      <td>K?</td>\n",
       "      <td>656</td>\n",
       "      <td>France</td>\n",
       "      <td>Female</td>\n",
       "      <td>34.0</td>\n",
       "      <td>7</td>\n",
       "      <td>0.00</td>\n",
       "      <td>2</td>\n",
       "      <td>1.0</td>\n",
       "      <td>0.0</td>\n",
       "      <td>138882.09</td>\n",
       "    </tr>\n",
       "    <tr>\n",
       "      <th>3</th>\n",
       "      <td>165037</td>\n",
       "      <td>15808905</td>\n",
       "      <td>O'Donnell</td>\n",
       "      <td>681</td>\n",
       "      <td>France</td>\n",
       "      <td>Male</td>\n",
       "      <td>36.0</td>\n",
       "      <td>8</td>\n",
       "      <td>0.00</td>\n",
       "      <td>1</td>\n",
       "      <td>1.0</td>\n",
       "      <td>0.0</td>\n",
       "      <td>113931.57</td>\n",
       "    </tr>\n",
       "    <tr>\n",
       "      <th>4</th>\n",
       "      <td>165038</td>\n",
       "      <td>15607314</td>\n",
       "      <td>Higgins</td>\n",
       "      <td>752</td>\n",
       "      <td>Germany</td>\n",
       "      <td>Male</td>\n",
       "      <td>38.0</td>\n",
       "      <td>10</td>\n",
       "      <td>121263.62</td>\n",
       "      <td>1</td>\n",
       "      <td>1.0</td>\n",
       "      <td>0.0</td>\n",
       "      <td>139431.00</td>\n",
       "    </tr>\n",
       "  </tbody>\n",
       "</table>\n",
       "</div>"
      ]
     },
     "execution_count": 8,
     "metadata": {},
     "output_type": "execute_result"
    }
   ],
   "execution_count": 8
  },
  {
   "cell_type": "code",
   "id": "a1af8ff5",
   "metadata": {
    "execution": {
     "iopub.execute_input": "2024-07-13T00:14:50.246055Z",
     "iopub.status.busy": "2024-07-13T00:14:50.245560Z",
     "iopub.status.idle": "2024-07-13T00:14:50.268971Z",
     "shell.execute_reply": "2024-07-13T00:14:50.267814Z"
    },
    "papermill": {
     "duration": 0.038062,
     "end_time": "2024-07-13T00:14:50.271448",
     "exception": false,
     "start_time": "2024-07-13T00:14:50.233386",
     "status": "completed"
    },
    "tags": [],
    "ExecuteTime": {
     "end_time": "2024-07-13T12:10:34.895817Z",
     "start_time": "2024-07-13T12:10:34.888697Z"
    }
   },
   "source": [
    "train.head()"
   ],
   "outputs": [
    {
     "data": {
      "text/plain": [
       "   id  CustomerId         Surname  CreditScore Geography Gender   Age  Tenure  \\\n",
       "0   0    15674932  Okwudilichukwu          668    France   Male  33.0       3   \n",
       "1   1    15749177   Okwudiliolisa          627    France   Male  33.0       1   \n",
       "2   2    15694510           Hsueh          678    France   Male  40.0      10   \n",
       "3   3    15741417             Kao          581    France   Male  34.0       2   \n",
       "4   4    15766172       Chiemenam          716     Spain   Male  33.0       5   \n",
       "\n",
       "     Balance  NumOfProducts  HasCrCard  IsActiveMember  EstimatedSalary  \\\n",
       "0       0.00              2        1.0             0.0        181449.97   \n",
       "1       0.00              2        1.0             1.0         49503.50   \n",
       "2       0.00              2        1.0             0.0        184866.69   \n",
       "3  148882.54              1        1.0             1.0         84560.88   \n",
       "4       0.00              2        1.0             1.0         15068.83   \n",
       "\n",
       "   Exited  \n",
       "0       0  \n",
       "1       0  \n",
       "2       0  \n",
       "3       0  \n",
       "4       0  "
      ],
      "text/html": [
       "<div>\n",
       "<style scoped>\n",
       "    .dataframe tbody tr th:only-of-type {\n",
       "        vertical-align: middle;\n",
       "    }\n",
       "\n",
       "    .dataframe tbody tr th {\n",
       "        vertical-align: top;\n",
       "    }\n",
       "\n",
       "    .dataframe thead th {\n",
       "        text-align: right;\n",
       "    }\n",
       "</style>\n",
       "<table border=\"1\" class=\"dataframe\">\n",
       "  <thead>\n",
       "    <tr style=\"text-align: right;\">\n",
       "      <th></th>\n",
       "      <th>id</th>\n",
       "      <th>CustomerId</th>\n",
       "      <th>Surname</th>\n",
       "      <th>CreditScore</th>\n",
       "      <th>Geography</th>\n",
       "      <th>Gender</th>\n",
       "      <th>Age</th>\n",
       "      <th>Tenure</th>\n",
       "      <th>Balance</th>\n",
       "      <th>NumOfProducts</th>\n",
       "      <th>HasCrCard</th>\n",
       "      <th>IsActiveMember</th>\n",
       "      <th>EstimatedSalary</th>\n",
       "      <th>Exited</th>\n",
       "    </tr>\n",
       "  </thead>\n",
       "  <tbody>\n",
       "    <tr>\n",
       "      <th>0</th>\n",
       "      <td>0</td>\n",
       "      <td>15674932</td>\n",
       "      <td>Okwudilichukwu</td>\n",
       "      <td>668</td>\n",
       "      <td>France</td>\n",
       "      <td>Male</td>\n",
       "      <td>33.0</td>\n",
       "      <td>3</td>\n",
       "      <td>0.00</td>\n",
       "      <td>2</td>\n",
       "      <td>1.0</td>\n",
       "      <td>0.0</td>\n",
       "      <td>181449.97</td>\n",
       "      <td>0</td>\n",
       "    </tr>\n",
       "    <tr>\n",
       "      <th>1</th>\n",
       "      <td>1</td>\n",
       "      <td>15749177</td>\n",
       "      <td>Okwudiliolisa</td>\n",
       "      <td>627</td>\n",
       "      <td>France</td>\n",
       "      <td>Male</td>\n",
       "      <td>33.0</td>\n",
       "      <td>1</td>\n",
       "      <td>0.00</td>\n",
       "      <td>2</td>\n",
       "      <td>1.0</td>\n",
       "      <td>1.0</td>\n",
       "      <td>49503.50</td>\n",
       "      <td>0</td>\n",
       "    </tr>\n",
       "    <tr>\n",
       "      <th>2</th>\n",
       "      <td>2</td>\n",
       "      <td>15694510</td>\n",
       "      <td>Hsueh</td>\n",
       "      <td>678</td>\n",
       "      <td>France</td>\n",
       "      <td>Male</td>\n",
       "      <td>40.0</td>\n",
       "      <td>10</td>\n",
       "      <td>0.00</td>\n",
       "      <td>2</td>\n",
       "      <td>1.0</td>\n",
       "      <td>0.0</td>\n",
       "      <td>184866.69</td>\n",
       "      <td>0</td>\n",
       "    </tr>\n",
       "    <tr>\n",
       "      <th>3</th>\n",
       "      <td>3</td>\n",
       "      <td>15741417</td>\n",
       "      <td>Kao</td>\n",
       "      <td>581</td>\n",
       "      <td>France</td>\n",
       "      <td>Male</td>\n",
       "      <td>34.0</td>\n",
       "      <td>2</td>\n",
       "      <td>148882.54</td>\n",
       "      <td>1</td>\n",
       "      <td>1.0</td>\n",
       "      <td>1.0</td>\n",
       "      <td>84560.88</td>\n",
       "      <td>0</td>\n",
       "    </tr>\n",
       "    <tr>\n",
       "      <th>4</th>\n",
       "      <td>4</td>\n",
       "      <td>15766172</td>\n",
       "      <td>Chiemenam</td>\n",
       "      <td>716</td>\n",
       "      <td>Spain</td>\n",
       "      <td>Male</td>\n",
       "      <td>33.0</td>\n",
       "      <td>5</td>\n",
       "      <td>0.00</td>\n",
       "      <td>2</td>\n",
       "      <td>1.0</td>\n",
       "      <td>1.0</td>\n",
       "      <td>15068.83</td>\n",
       "      <td>0</td>\n",
       "    </tr>\n",
       "  </tbody>\n",
       "</table>\n",
       "</div>"
      ]
     },
     "execution_count": 9,
     "metadata": {},
     "output_type": "execute_result"
    }
   ],
   "execution_count": 9
  },
  {
   "cell_type": "code",
   "id": "aa05df7a",
   "metadata": {
    "execution": {
     "iopub.execute_input": "2024-07-13T00:14:50.297819Z",
     "iopub.status.busy": "2024-07-13T00:14:50.297455Z",
     "iopub.status.idle": "2024-07-13T00:14:50.317715Z",
     "shell.execute_reply": "2024-07-13T00:14:50.316642Z"
    },
    "papermill": {
     "duration": 0.037869,
     "end_time": "2024-07-13T00:14:50.320710",
     "exception": false,
     "start_time": "2024-07-13T00:14:50.282841",
     "status": "completed"
    },
    "tags": [],
    "ExecuteTime": {
     "end_time": "2024-07-13T12:10:35.474245Z",
     "start_time": "2024-07-13T12:10:35.469773Z"
    }
   },
   "source": [
    "origin.head()"
   ],
   "outputs": [
    {
     "data": {
      "text/plain": [
       "   id  CustomerId         Surname  CreditScore Geography Gender   Age  Tenure  \\\n",
       "0   0    15674932  Okwudilichukwu          668    France   Male  33.0       3   \n",
       "1   1    15749177   Okwudiliolisa          627    France   Male  33.0       1   \n",
       "2   2    15694510           Hsueh          678    France   Male  40.0      10   \n",
       "3   3    15741417             Kao          581    France   Male  34.0       2   \n",
       "4   4    15766172       Chiemenam          716     Spain   Male  33.0       5   \n",
       "\n",
       "     Balance  NumOfProducts  HasCrCard  IsActiveMember  EstimatedSalary  \\\n",
       "0       0.00              2        1.0             0.0        181449.97   \n",
       "1       0.00              2        1.0             1.0         49503.50   \n",
       "2       0.00              2        1.0             0.0        184866.69   \n",
       "3  148882.54              1        1.0             1.0         84560.88   \n",
       "4       0.00              2        1.0             1.0         15068.83   \n",
       "\n",
       "   Exited  \n",
       "0       0  \n",
       "1       0  \n",
       "2       0  \n",
       "3       0  \n",
       "4       0  "
      ],
      "text/html": [
       "<div>\n",
       "<style scoped>\n",
       "    .dataframe tbody tr th:only-of-type {\n",
       "        vertical-align: middle;\n",
       "    }\n",
       "\n",
       "    .dataframe tbody tr th {\n",
       "        vertical-align: top;\n",
       "    }\n",
       "\n",
       "    .dataframe thead th {\n",
       "        text-align: right;\n",
       "    }\n",
       "</style>\n",
       "<table border=\"1\" class=\"dataframe\">\n",
       "  <thead>\n",
       "    <tr style=\"text-align: right;\">\n",
       "      <th></th>\n",
       "      <th>id</th>\n",
       "      <th>CustomerId</th>\n",
       "      <th>Surname</th>\n",
       "      <th>CreditScore</th>\n",
       "      <th>Geography</th>\n",
       "      <th>Gender</th>\n",
       "      <th>Age</th>\n",
       "      <th>Tenure</th>\n",
       "      <th>Balance</th>\n",
       "      <th>NumOfProducts</th>\n",
       "      <th>HasCrCard</th>\n",
       "      <th>IsActiveMember</th>\n",
       "      <th>EstimatedSalary</th>\n",
       "      <th>Exited</th>\n",
       "    </tr>\n",
       "  </thead>\n",
       "  <tbody>\n",
       "    <tr>\n",
       "      <th>0</th>\n",
       "      <td>0</td>\n",
       "      <td>15674932</td>\n",
       "      <td>Okwudilichukwu</td>\n",
       "      <td>668</td>\n",
       "      <td>France</td>\n",
       "      <td>Male</td>\n",
       "      <td>33.0</td>\n",
       "      <td>3</td>\n",
       "      <td>0.00</td>\n",
       "      <td>2</td>\n",
       "      <td>1.0</td>\n",
       "      <td>0.0</td>\n",
       "      <td>181449.97</td>\n",
       "      <td>0</td>\n",
       "    </tr>\n",
       "    <tr>\n",
       "      <th>1</th>\n",
       "      <td>1</td>\n",
       "      <td>15749177</td>\n",
       "      <td>Okwudiliolisa</td>\n",
       "      <td>627</td>\n",
       "      <td>France</td>\n",
       "      <td>Male</td>\n",
       "      <td>33.0</td>\n",
       "      <td>1</td>\n",
       "      <td>0.00</td>\n",
       "      <td>2</td>\n",
       "      <td>1.0</td>\n",
       "      <td>1.0</td>\n",
       "      <td>49503.50</td>\n",
       "      <td>0</td>\n",
       "    </tr>\n",
       "    <tr>\n",
       "      <th>2</th>\n",
       "      <td>2</td>\n",
       "      <td>15694510</td>\n",
       "      <td>Hsueh</td>\n",
       "      <td>678</td>\n",
       "      <td>France</td>\n",
       "      <td>Male</td>\n",
       "      <td>40.0</td>\n",
       "      <td>10</td>\n",
       "      <td>0.00</td>\n",
       "      <td>2</td>\n",
       "      <td>1.0</td>\n",
       "      <td>0.0</td>\n",
       "      <td>184866.69</td>\n",
       "      <td>0</td>\n",
       "    </tr>\n",
       "    <tr>\n",
       "      <th>3</th>\n",
       "      <td>3</td>\n",
       "      <td>15741417</td>\n",
       "      <td>Kao</td>\n",
       "      <td>581</td>\n",
       "      <td>France</td>\n",
       "      <td>Male</td>\n",
       "      <td>34.0</td>\n",
       "      <td>2</td>\n",
       "      <td>148882.54</td>\n",
       "      <td>1</td>\n",
       "      <td>1.0</td>\n",
       "      <td>1.0</td>\n",
       "      <td>84560.88</td>\n",
       "      <td>0</td>\n",
       "    </tr>\n",
       "    <tr>\n",
       "      <th>4</th>\n",
       "      <td>4</td>\n",
       "      <td>15766172</td>\n",
       "      <td>Chiemenam</td>\n",
       "      <td>716</td>\n",
       "      <td>Spain</td>\n",
       "      <td>Male</td>\n",
       "      <td>33.0</td>\n",
       "      <td>5</td>\n",
       "      <td>0.00</td>\n",
       "      <td>2</td>\n",
       "      <td>1.0</td>\n",
       "      <td>1.0</td>\n",
       "      <td>15068.83</td>\n",
       "      <td>0</td>\n",
       "    </tr>\n",
       "  </tbody>\n",
       "</table>\n",
       "</div>"
      ]
     },
     "execution_count": 10,
     "metadata": {},
     "output_type": "execute_result"
    }
   ],
   "execution_count": 10
  },
  {
   "cell_type": "markdown",
   "id": "e1a11356",
   "metadata": {
    "papermill": {
     "duration": 0.011187,
     "end_time": "2024-07-13T00:14:50.347406",
     "exception": false,
     "start_time": "2024-07-13T00:14:50.336219",
     "status": "completed"
    },
    "tags": []
   },
   "source": [
    "---"
   ]
  },
  {
   "cell_type": "markdown",
   "id": "85a4ed89",
   "metadata": {
    "papermill": {
     "duration": 0.01113,
     "end_time": "2024-07-13T00:14:50.370275",
     "exception": false,
     "start_time": "2024-07-13T00:14:50.359145",
     "status": "completed"
    },
    "tags": []
   },
   "source": [
    "## 2. Delete Useless & Duplicated Columns\n",
    "- 불필요하거나 중복되는 컬럼 삭제"
   ]
  },
  {
   "cell_type": "code",
   "id": "d3bc6479",
   "metadata": {
    "execution": {
     "iopub.execute_input": "2024-07-13T00:14:50.395140Z",
     "iopub.status.busy": "2024-07-13T00:14:50.394652Z",
     "iopub.status.idle": "2024-07-13T00:14:50.686857Z",
     "shell.execute_reply": "2024-07-13T00:14:50.685317Z"
    },
    "papermill": {
     "duration": 0.30776,
     "end_time": "2024-07-13T00:14:50.689462",
     "exception": false,
     "start_time": "2024-07-13T00:14:50.381702",
     "status": "completed"
    },
    "tags": [],
    "ExecuteTime": {
     "end_time": "2024-07-13T12:10:40.465784Z",
     "start_time": "2024-07-13T12:10:40.369616Z"
    }
   },
   "source": [
    "def drop_useless(df):\n",
    "    columns_to_drop = ['id', 'CustomerId', 'Surname', 'RowNumber']\n",
    "    for col in columns_to_drop:\n",
    "        if col in df.columns:\n",
    "            df.drop([col], axis=1, inplace=True)\n",
    "    return df\n",
    "\n",
    "# 불필요한 열 제거\n",
    "train = drop_useless(train)\n",
    "test = drop_useless(test)\n",
    "origin = drop_useless(origin)\n",
    "\n",
    "\n",
    "# train과 origin 데이터 병합 전 열 정렬\n",
    "train, origin = train.align(origin, join='inner', axis=1)\n",
    "\n",
    "\n",
    "# train과 origin 데이터 병합\n",
    "train = pd.concat([train, origin], ignore_index=True)\n",
    "\n",
    "\n",
    "# 중복 열 제거\n",
    "train.drop_duplicates(inplace=True)\n",
    "\n",
    "\n",
    "print(train)"
   ],
   "outputs": [
    {
     "name": "stdout",
     "output_type": "stream",
     "text": [
      "        CreditScore Geography  Gender   Age  Tenure    Balance  NumOfProducts  \\\n",
      "0               668    France    Male  33.0       3       0.00              2   \n",
      "1               627    France    Male  33.0       1       0.00              2   \n",
      "2               678    France    Male  40.0      10       0.00              2   \n",
      "3               581    France    Male  34.0       2  148882.54              1   \n",
      "4               716     Spain    Male  33.0       5       0.00              2   \n",
      "...             ...       ...     ...   ...     ...        ...            ...   \n",
      "165029          667     Spain  Female  33.0       2       0.00              1   \n",
      "165030          792    France    Male  35.0       3       0.00              1   \n",
      "165031          565    France    Male  31.0       5       0.00              1   \n",
      "165032          554     Spain  Female  30.0       7  161533.00              1   \n",
      "165033          850    France    Male  31.0       1       0.00              1   \n",
      "\n",
      "        HasCrCard  IsActiveMember  EstimatedSalary  Exited  \n",
      "0             1.0             0.0        181449.97       0  \n",
      "1             1.0             1.0         49503.50       0  \n",
      "2             1.0             0.0        184866.69       0  \n",
      "3             1.0             1.0         84560.88       0  \n",
      "4             1.0             1.0         15068.83       0  \n",
      "...           ...             ...              ...     ...  \n",
      "165029        1.0             1.0        131834.75       0  \n",
      "165030        0.0             0.0        131834.45       0  \n",
      "165031        1.0             1.0        127429.56       0  \n",
      "165032        0.0             1.0         71173.03       0  \n",
      "165033        1.0             0.0         61581.79       1  \n",
      "\n",
      "[164911 rows x 11 columns]\n"
     ]
    }
   ],
   "execution_count": 11
  },
  {
   "cell_type": "markdown",
   "id": "1f5c256a",
   "metadata": {
    "papermill": {
     "duration": 0.010966,
     "end_time": "2024-07-13T00:14:50.711807",
     "exception": false,
     "start_time": "2024-07-13T00:14:50.700841",
     "status": "completed"
    },
    "tags": []
   },
   "source": [
    "---"
   ]
  },
  {
   "cell_type": "markdown",
   "id": "eb1a839f",
   "metadata": {
    "papermill": {
     "duration": 0.010975,
     "end_time": "2024-07-13T00:14:50.734268",
     "exception": false,
     "start_time": "2024-07-13T00:14:50.723293",
     "status": "completed"
    },
    "tags": []
   },
   "source": [
    "## 3. Missing Values Handling\n",
    "- 결측치 처리"
   ]
  },
  {
   "cell_type": "code",
   "id": "17d6ef2f",
   "metadata": {
    "execution": {
     "iopub.execute_input": "2024-07-13T00:14:50.759196Z",
     "iopub.status.busy": "2024-07-13T00:14:50.758320Z",
     "iopub.status.idle": "2024-07-13T00:14:51.021790Z",
     "shell.execute_reply": "2024-07-13T00:14:51.020537Z"
    },
    "papermill": {
     "duration": 0.278759,
     "end_time": "2024-07-13T00:14:51.024401",
     "exception": false,
     "start_time": "2024-07-13T00:14:50.745642",
     "status": "completed"
    },
    "tags": [],
    "ExecuteTime": {
     "end_time": "2024-07-13T12:10:44.132285Z",
     "start_time": "2024-07-13T12:10:44.077129Z"
    }
   },
   "source": [
    "# 결측치 처리\n",
    "mode_values_train = train.mode().iloc[0] # 데이터프레임의 각 열에 대한 최빈값을 계산합니다.\n",
    "train.fillna(mode_values_train, inplace=True) # 데이터프레임의 결측치를 최빈값으로 채웁니다. - 이하 동문\n",
    "\n",
    "\n",
    "# 결측치(Missing Value)는 데이터셋에서 값이 누락된 경우를 말합니다. \n",
    "# 이는 데이터 수집 과정에서 정보가 빠졌거나 손실된 결과로 발생할 수 있습니다. \n",
    "# 결측치는 분석 및 모델링 과정에서 문제를 일으킬 수 있으므로, \n",
    "# 이를 처리하여 데이터를 완전하게 만드는 것이 중요합니다.\n",
    "\n",
    "# 결측치 처리 방법:\n",
    "# 1. 삭제: 결측치가 있는 행이나 열을 제거합니다.\n",
    "# 2. 대체: 결측치를 다른 값으로 채웁니다. 흔히 사용되는 대체 값은 평균, 중간값, 최빈값 등입니다.\n",
    "# 3. 예측: 결측치를 예측 모델을 사용하여 채웁니다.\n",
    "    \n",
    "\n",
    "mode_values_test = test.mode().iloc[0]\n",
    "test.fillna(mode_values_test, inplace=True)\n",
    "\n",
    "\n",
    "print(train)"
   ],
   "outputs": [
    {
     "name": "stdout",
     "output_type": "stream",
     "text": [
      "        CreditScore Geography  Gender   Age  Tenure    Balance  NumOfProducts  \\\n",
      "0               668    France    Male  33.0       3       0.00              2   \n",
      "1               627    France    Male  33.0       1       0.00              2   \n",
      "2               678    France    Male  40.0      10       0.00              2   \n",
      "3               581    France    Male  34.0       2  148882.54              1   \n",
      "4               716     Spain    Male  33.0       5       0.00              2   \n",
      "...             ...       ...     ...   ...     ...        ...            ...   \n",
      "165029          667     Spain  Female  33.0       2       0.00              1   \n",
      "165030          792    France    Male  35.0       3       0.00              1   \n",
      "165031          565    France    Male  31.0       5       0.00              1   \n",
      "165032          554     Spain  Female  30.0       7  161533.00              1   \n",
      "165033          850    France    Male  31.0       1       0.00              1   \n",
      "\n",
      "        HasCrCard  IsActiveMember  EstimatedSalary  Exited  \n",
      "0             1.0             0.0        181449.97       0  \n",
      "1             1.0             1.0         49503.50       0  \n",
      "2             1.0             0.0        184866.69       0  \n",
      "3             1.0             1.0         84560.88       0  \n",
      "4             1.0             1.0         15068.83       0  \n",
      "...           ...             ...              ...     ...  \n",
      "165029        1.0             1.0        131834.75       0  \n",
      "165030        0.0             0.0        131834.45       0  \n",
      "165031        1.0             1.0        127429.56       0  \n",
      "165032        0.0             1.0         71173.03       0  \n",
      "165033        1.0             0.0         61581.79       1  \n",
      "\n",
      "[164911 rows x 11 columns]\n"
     ]
    }
   ],
   "execution_count": 12
  },
  {
   "cell_type": "markdown",
   "id": "6573b30c",
   "metadata": {
    "papermill": {
     "duration": 0.011197,
     "end_time": "2024-07-13T00:14:51.047179",
     "exception": false,
     "start_time": "2024-07-13T00:14:51.035982",
     "status": "completed"
    },
    "tags": []
   },
   "source": [
    "---"
   ]
  },
  {
   "cell_type": "markdown",
   "id": "f69f52a8",
   "metadata": {
    "papermill": {
     "duration": 0.011194,
     "end_time": "2024-07-13T00:14:51.070141",
     "exception": false,
     "start_time": "2024-07-13T00:14:51.058947",
     "status": "completed"
    },
    "tags": []
   },
   "source": [
    "## 4. Encoding String Type to Integer Type\n",
    "- 문자열 타입을 숫자형 타입으로 인코딩"
   ]
  },
  {
   "cell_type": "code",
   "id": "8ed0398b",
   "metadata": {
    "execution": {
     "iopub.execute_input": "2024-07-13T00:14:51.094940Z",
     "iopub.status.busy": "2024-07-13T00:14:51.094579Z",
     "iopub.status.idle": "2024-07-13T00:14:52.490519Z",
     "shell.execute_reply": "2024-07-13T00:14:52.489462Z"
    },
    "papermill": {
     "duration": 1.411727,
     "end_time": "2024-07-13T00:14:52.493290",
     "exception": false,
     "start_time": "2024-07-13T00:14:51.081563",
     "status": "completed"
    },
    "tags": [],
    "ExecuteTime": {
     "end_time": "2024-07-13T12:11:31.677320Z",
     "start_time": "2024-07-13T12:11:19.519012Z"
    }
   },
   "source": [
    "# 인코딩\n",
    "# LabelEncoder는 문자열 형태의 범주형 데이터를 숫자로 변환해주는 Scikit-learn의 클래스입니다. \n",
    "# 예를 들어, 'Male'과 'Female'을 각각 0과 1로 변환하여 모델이 처리할 수 있게 합니다.\n",
    "from sklearn.preprocessing import LabelEncoder\n",
    "\n",
    "labelencoder = LabelEncoder()\n",
    "train['Gender'] = labelencoder.fit_transform(train['Gender']) # train 데이터프레임의 Gender 열을 숫자로 변환합니다.\n",
    "test['Gender'] = labelencoder.fit_transform(test['Gender']) # test 데이터프레임의 Gender 열을 숫자로 변환합니다.\n",
    "\n",
    "\n",
    "# pd.get_dummies를 사용한 원핫 인코딩\n",
    "# pd.get_dummies 함수는 지정된 열(Geography)을 원핫 인코딩하여 데이터프레임의 범주형 데이터를 이진 벡터로 변환합니다.\n",
    "# 예를 들어, 'Geography' 열의 값이 'France', 'Spain', 'Germany'인 경우, \n",
    "# 각 값에 대해 별도의 열이 생성되고, 값이 해당되는 열에는 1, 나머지에는 0이 들어갑니다.\n",
    "train = pd.get_dummies(train, columns=['Geography'])\n",
    "test = pd.get_dummies(test, columns=['Geography'])\n",
    "\n",
    "\n",
    "# train과 test 데이터프레임의 열이 동일하도록 조정\n",
    "# train 데이터프레임에는 있지만 test 데이터프레임에는 없는 열을 찾습니다.\n",
    "missing_cols = set(train.columns) - set(test.columns)\n",
    "\n",
    "# test 데이터프레임에 누락된 열을 추가하고, 해당 열의 값을 0으로 채웁니다. \n",
    "# 이는 train과 test의 열 구조를 동일하게 맞추기 위함입니다.\n",
    "for c in missing_cols: \n",
    "    test[c] = 0\n",
    "    \n",
    "# test 데이터프레임의 열 순서를 train 데이터프레임과 동일하게 맞춥니다. \n",
    "# 단, Exited 열은 제외합니다. 이를 통해 모델 입력 데이터의 일관성을 유지합니다.\n",
    "test = test[train.columns.drop('Exited')]"
   ],
   "outputs": [],
   "execution_count": 14
  },
  {
   "cell_type": "code",
   "id": "38d0dfb6",
   "metadata": {
    "execution": {
     "iopub.execute_input": "2024-07-13T00:14:52.518765Z",
     "iopub.status.busy": "2024-07-13T00:14:52.517787Z",
     "iopub.status.idle": "2024-07-13T00:14:52.536057Z",
     "shell.execute_reply": "2024-07-13T00:14:52.534771Z"
    },
    "papermill": {
     "duration": 0.034136,
     "end_time": "2024-07-13T00:14:52.539065",
     "exception": false,
     "start_time": "2024-07-13T00:14:52.504929",
     "status": "completed"
    },
    "tags": [],
    "ExecuteTime": {
     "end_time": "2024-07-13T12:11:38.597499Z",
     "start_time": "2024-07-13T12:11:38.593224Z"
    }
   },
   "source": [
    "# 출력 확인\n",
    "print(train.head())\n",
    "print(test.head())"
   ],
   "outputs": [
    {
     "name": "stdout",
     "output_type": "stream",
     "text": [
      "   CreditScore  Gender   Age  Tenure    Balance  NumOfProducts  HasCrCard  \\\n",
      "0          668       1  33.0       3       0.00              2        1.0   \n",
      "1          627       1  33.0       1       0.00              2        1.0   \n",
      "2          678       1  40.0      10       0.00              2        1.0   \n",
      "3          581       1  34.0       2  148882.54              1        1.0   \n",
      "4          716       1  33.0       5       0.00              2        1.0   \n",
      "\n",
      "   IsActiveMember  EstimatedSalary  Exited  Geography_France  \\\n",
      "0             0.0        181449.97       0              True   \n",
      "1             1.0         49503.50       0              True   \n",
      "2             0.0        184866.69       0              True   \n",
      "3             1.0         84560.88       0              True   \n",
      "4             1.0         15068.83       0             False   \n",
      "\n",
      "   Geography_Germany  Geography_Spain  \n",
      "0              False            False  \n",
      "1              False            False  \n",
      "2              False            False  \n",
      "3              False            False  \n",
      "4              False             True  \n",
      "   CreditScore  Gender   Age  Tenure    Balance  NumOfProducts  HasCrCard  \\\n",
      "0          586       0  23.0       2       0.00              2        0.0   \n",
      "1          683       0  46.0       2       0.00              1        1.0   \n",
      "2          656       0  34.0       7       0.00              2        1.0   \n",
      "3          681       1  36.0       8       0.00              1        1.0   \n",
      "4          752       1  38.0      10  121263.62              1        1.0   \n",
      "\n",
      "   IsActiveMember  EstimatedSalary  Geography_France  Geography_Germany  \\\n",
      "0             1.0        160976.75              True              False   \n",
      "1             0.0         72549.27              True              False   \n",
      "2             0.0        138882.09              True              False   \n",
      "3             0.0        113931.57              True              False   \n",
      "4             0.0        139431.00             False               True   \n",
      "\n",
      "   Geography_Spain  \n",
      "0            False  \n",
      "1            False  \n",
      "2            False  \n",
      "3            False  \n",
      "4            False  \n"
     ]
    }
   ],
   "execution_count": 16
  },
  {
   "cell_type": "markdown",
   "id": "6e2725e4",
   "metadata": {
    "papermill": {
     "duration": 0.011515,
     "end_time": "2024-07-13T00:14:52.562445",
     "exception": false,
     "start_time": "2024-07-13T00:14:52.550930",
     "status": "completed"
    },
    "tags": []
   },
   "source": [
    "---"
   ]
  },
  {
   "cell_type": "markdown",
   "id": "339d0dac",
   "metadata": {
    "papermill": {
     "duration": 0.011452,
     "end_time": "2024-07-13T00:14:52.585586",
     "exception": false,
     "start_time": "2024-07-13T00:14:52.574134",
     "status": "completed"
    },
    "tags": []
   },
   "source": [
    "## 5. Data Normalization\n",
    "- 데이터 표준화"
   ]
  },
  {
   "cell_type": "code",
   "id": "392566c8",
   "metadata": {
    "execution": {
     "iopub.execute_input": "2024-07-13T00:14:52.611278Z",
     "iopub.status.busy": "2024-07-13T00:14:52.610528Z",
     "iopub.status.idle": "2024-07-13T00:14:52.674698Z",
     "shell.execute_reply": "2024-07-13T00:14:52.673619Z"
    },
    "papermill": {
     "duration": 0.080061,
     "end_time": "2024-07-13T00:14:52.677580",
     "exception": false,
     "start_time": "2024-07-13T00:14:52.597519",
     "status": "completed"
    },
    "tags": [],
    "ExecuteTime": {
     "end_time": "2024-07-13T12:11:40.023966Z",
     "start_time": "2024-07-13T12:11:39.999812Z"
    }
   },
   "source": [
    "from sklearn.preprocessing import StandardScaler, MinMaxScaler\n",
    "\n",
    "# 수치형 열 식별\n",
    "num_cols = train.select_dtypes(include=[np.number]).columns.tolist()\n",
    "num_cols.remove('Exited')\n",
    "num_cols_test = test.select_dtypes(include=[np.number]).columns.tolist()\n",
    "\n",
    "# StandardScaler를 통해 수치형 데이터를 표준화\n",
    "# 이 스케일러는 데이터를 평균이 0이고, 표준 편차가 1이 되도록 변환합니다. \n",
    "# 즉, 데이터의 각 특성을 평균 0, 분산 1로 만듭니다.\n",
    "scaler = StandardScaler()\n",
    "\n",
    "# train 데이터의 num_cols 열에 대해 스케일러를 적용하여 변환합니다.\n",
    "train[num_cols] = scaler.fit_transform(train[num_cols])\n",
    "\n",
    "# test 데이터의 num_cols_test 열에 대해 동일한 스케일러를 적용하여 변환합니다. \n",
    "# fit_transform은 학습과 변환을 동시에 수행하지만, \n",
    "# transform은 이미 학습된 스케일러를 사용하여 변환만 수행합니다.\n",
    "test[num_cols_test] = scaler.transform(test[num_cols_test])"
   ],
   "outputs": [],
   "execution_count": 17
  },
  {
   "cell_type": "code",
   "id": "8b91747d",
   "metadata": {
    "execution": {
     "iopub.execute_input": "2024-07-13T00:14:52.703399Z",
     "iopub.status.busy": "2024-07-13T00:14:52.702975Z",
     "iopub.status.idle": "2024-07-13T00:14:52.748437Z",
     "shell.execute_reply": "2024-07-13T00:14:52.747316Z"
    },
    "papermill": {
     "duration": 0.061135,
     "end_time": "2024-07-13T00:14:52.751109",
     "exception": false,
     "start_time": "2024-07-13T00:14:52.689974",
     "status": "completed"
    },
    "tags": [],
    "ExecuteTime": {
     "end_time": "2024-07-13T12:11:40.933716Z",
     "start_time": "2024-07-13T12:11:40.913701Z"
    }
   },
   "source": [
    "# MinMaxScaler 통해 수치형 데이터를 표준화\n",
    "# 이 스케일러는 데이터를 최소값 0, 최대값 1로 변환합니다. \n",
    "# 즉, 각 특성을 [0, 1] 범위 내에 있도록 조정합니다.\n",
    "scaler = MinMaxScaler() \n",
    "train[num_cols] = scaler.fit_transform(train[num_cols])\n",
    "test[num_cols_test] = scaler.transform(test[num_cols_test])"
   ],
   "outputs": [],
   "execution_count": 18
  },
  {
   "cell_type": "code",
   "id": "884b4df5",
   "metadata": {
    "execution": {
     "iopub.execute_input": "2024-07-13T00:14:52.776726Z",
     "iopub.status.busy": "2024-07-13T00:14:52.776310Z",
     "iopub.status.idle": "2024-07-13T00:14:52.798605Z",
     "shell.execute_reply": "2024-07-13T00:14:52.797360Z"
    },
    "papermill": {
     "duration": 0.038061,
     "end_time": "2024-07-13T00:14:52.801048",
     "exception": false,
     "start_time": "2024-07-13T00:14:52.762987",
     "status": "completed"
    },
    "tags": [],
    "ExecuteTime": {
     "end_time": "2024-07-13T12:11:41.702538Z",
     "start_time": "2024-07-13T12:11:41.697267Z"
    }
   },
   "source": [
    "train.head()"
   ],
   "outputs": [
    {
     "data": {
      "text/plain": [
       "   CreditScore  Gender       Age  Tenure   Balance  NumOfProducts  HasCrCard  \\\n",
       "0        0.636     1.0  0.202703     0.3  0.000000       0.333333        1.0   \n",
       "1        0.554     1.0  0.202703     0.1  0.000000       0.333333        1.0   \n",
       "2        0.656     1.0  0.297297     1.0  0.000000       0.333333        1.0   \n",
       "3        0.462     1.0  0.216216     0.2  0.593398       0.000000        1.0   \n",
       "4        0.732     1.0  0.202703     0.5  0.000000       0.333333        1.0   \n",
       "\n",
       "   IsActiveMember  EstimatedSalary  Exited  Geography_France  \\\n",
       "0             0.0         0.907279       0              True   \n",
       "1             1.0         0.247483       0              True   \n",
       "2             0.0         0.924364       0              True   \n",
       "3             1.0         0.422787       0              True   \n",
       "4             1.0         0.075293       0             False   \n",
       "\n",
       "   Geography_Germany  Geography_Spain  \n",
       "0              False            False  \n",
       "1              False            False  \n",
       "2              False            False  \n",
       "3              False            False  \n",
       "4              False             True  "
      ],
      "text/html": [
       "<div>\n",
       "<style scoped>\n",
       "    .dataframe tbody tr th:only-of-type {\n",
       "        vertical-align: middle;\n",
       "    }\n",
       "\n",
       "    .dataframe tbody tr th {\n",
       "        vertical-align: top;\n",
       "    }\n",
       "\n",
       "    .dataframe thead th {\n",
       "        text-align: right;\n",
       "    }\n",
       "</style>\n",
       "<table border=\"1\" class=\"dataframe\">\n",
       "  <thead>\n",
       "    <tr style=\"text-align: right;\">\n",
       "      <th></th>\n",
       "      <th>CreditScore</th>\n",
       "      <th>Gender</th>\n",
       "      <th>Age</th>\n",
       "      <th>Tenure</th>\n",
       "      <th>Balance</th>\n",
       "      <th>NumOfProducts</th>\n",
       "      <th>HasCrCard</th>\n",
       "      <th>IsActiveMember</th>\n",
       "      <th>EstimatedSalary</th>\n",
       "      <th>Exited</th>\n",
       "      <th>Geography_France</th>\n",
       "      <th>Geography_Germany</th>\n",
       "      <th>Geography_Spain</th>\n",
       "    </tr>\n",
       "  </thead>\n",
       "  <tbody>\n",
       "    <tr>\n",
       "      <th>0</th>\n",
       "      <td>0.636</td>\n",
       "      <td>1.0</td>\n",
       "      <td>0.202703</td>\n",
       "      <td>0.3</td>\n",
       "      <td>0.000000</td>\n",
       "      <td>0.333333</td>\n",
       "      <td>1.0</td>\n",
       "      <td>0.0</td>\n",
       "      <td>0.907279</td>\n",
       "      <td>0</td>\n",
       "      <td>True</td>\n",
       "      <td>False</td>\n",
       "      <td>False</td>\n",
       "    </tr>\n",
       "    <tr>\n",
       "      <th>1</th>\n",
       "      <td>0.554</td>\n",
       "      <td>1.0</td>\n",
       "      <td>0.202703</td>\n",
       "      <td>0.1</td>\n",
       "      <td>0.000000</td>\n",
       "      <td>0.333333</td>\n",
       "      <td>1.0</td>\n",
       "      <td>1.0</td>\n",
       "      <td>0.247483</td>\n",
       "      <td>0</td>\n",
       "      <td>True</td>\n",
       "      <td>False</td>\n",
       "      <td>False</td>\n",
       "    </tr>\n",
       "    <tr>\n",
       "      <th>2</th>\n",
       "      <td>0.656</td>\n",
       "      <td>1.0</td>\n",
       "      <td>0.297297</td>\n",
       "      <td>1.0</td>\n",
       "      <td>0.000000</td>\n",
       "      <td>0.333333</td>\n",
       "      <td>1.0</td>\n",
       "      <td>0.0</td>\n",
       "      <td>0.924364</td>\n",
       "      <td>0</td>\n",
       "      <td>True</td>\n",
       "      <td>False</td>\n",
       "      <td>False</td>\n",
       "    </tr>\n",
       "    <tr>\n",
       "      <th>3</th>\n",
       "      <td>0.462</td>\n",
       "      <td>1.0</td>\n",
       "      <td>0.216216</td>\n",
       "      <td>0.2</td>\n",
       "      <td>0.593398</td>\n",
       "      <td>0.000000</td>\n",
       "      <td>1.0</td>\n",
       "      <td>1.0</td>\n",
       "      <td>0.422787</td>\n",
       "      <td>0</td>\n",
       "      <td>True</td>\n",
       "      <td>False</td>\n",
       "      <td>False</td>\n",
       "    </tr>\n",
       "    <tr>\n",
       "      <th>4</th>\n",
       "      <td>0.732</td>\n",
       "      <td>1.0</td>\n",
       "      <td>0.202703</td>\n",
       "      <td>0.5</td>\n",
       "      <td>0.000000</td>\n",
       "      <td>0.333333</td>\n",
       "      <td>1.0</td>\n",
       "      <td>1.0</td>\n",
       "      <td>0.075293</td>\n",
       "      <td>0</td>\n",
       "      <td>False</td>\n",
       "      <td>False</td>\n",
       "      <td>True</td>\n",
       "    </tr>\n",
       "  </tbody>\n",
       "</table>\n",
       "</div>"
      ]
     },
     "execution_count": 19,
     "metadata": {},
     "output_type": "execute_result"
    }
   ],
   "execution_count": 19
  },
  {
   "cell_type": "markdown",
   "id": "dd70350a",
   "metadata": {
    "papermill": {
     "duration": 0.011941,
     "end_time": "2024-07-13T00:14:52.825542",
     "exception": false,
     "start_time": "2024-07-13T00:14:52.813601",
     "status": "completed"
    },
    "tags": []
   },
   "source": [
    "### Why Use Two Different Scalers?\n",
    "- StandardScaler transforms data based on the mean and standard deviation, making it advantageous when the data follows a normal distribution. \n",
    "- On the other hand, MinMaxScaler scales data to a specific range, usually [0, 1], regardless of the data's distribution. This is beneficial when the data does not follow a normal distribution or when we want to restrict the values within a certain range. \n",
    "- Using both scalers allows us to compare the impact of each scaling method on the model's performance.\n",
    "\n",
    "### 왜 두 가지 스케일러를 사용하는가?\n",
    "- StandardScaler는 평균과 표준편차를 기준으로 변환하므로, 데이터가 정규분포를 따르는 경우 유리합니다.\n",
    "- MinMaxScaler는 데이터의 분포와 상관없이 일정한 범위 내로 값을 조정하기 때문에, 비정규분포를 따르는 경우나 특정 범위 내에 값을 제한하고자 할 때 유용합니다.\n",
    "- 두 가지 스케일러를 모두 사용해보는 것은, 각각의 스케일링 방법이 모델의 성능에 미치는 영향을 비교해보기 위함입니다."
   ]
  },
  {
   "cell_type": "markdown",
   "id": "9f9bf311",
   "metadata": {
    "papermill": {
     "duration": 0.011963,
     "end_time": "2024-07-13T00:14:52.849818",
     "exception": false,
     "start_time": "2024-07-13T00:14:52.837855",
     "status": "completed"
    },
    "tags": []
   },
   "source": [
    "---"
   ]
  },
  {
   "cell_type": "markdown",
   "id": "f2d9ff8b",
   "metadata": {
    "papermill": {
     "duration": 0.012246,
     "end_time": "2024-07-13T00:14:52.874138",
     "exception": false,
     "start_time": "2024-07-13T00:14:52.861892",
     "status": "completed"
    },
    "tags": []
   },
   "source": [
    "## 6. Modeling & Evaluation\n",
    "- 모델링 & 평가"
   ]
  },
  {
   "cell_type": "code",
   "id": "0bf53013",
   "metadata": {
    "execution": {
     "iopub.execute_input": "2024-07-13T00:14:52.901507Z",
     "iopub.status.busy": "2024-07-13T00:14:52.900254Z",
     "iopub.status.idle": "2024-07-13T00:14:56.162291Z",
     "shell.execute_reply": "2024-07-13T00:14:56.161298Z"
    },
    "papermill": {
     "duration": 3.278665,
     "end_time": "2024-07-13T00:14:56.164996",
     "exception": false,
     "start_time": "2024-07-13T00:14:52.886331",
     "status": "completed"
    },
    "tags": [],
    "ExecuteTime": {
     "end_time": "2024-07-13T12:12:14.872919Z",
     "start_time": "2024-07-13T12:12:14.018212Z"
    }
   },
   "source": [
    "# 이 코드는 LightGBM 모델을 사용하여 이탈 예측 모델을 학습하고 평가하는 과정을 나타냅니다.\n",
    "\n",
    "# 1. 라이브러리 import\n",
    "from sklearn.model_selection import train_test_split\n",
    "from sklearn.metrics import roc_auc_score\n",
    "import lightgbm as lgb\n",
    "\n",
    "\n",
    "# 2. 데이터 분할\n",
    "X = train.drop('Exited', axis=1) # 타겟 변수 Exited를 제외한 입력 데이터.\n",
    "y = train['Exited'] # 타겟 변수 Exited.\n",
    "\n",
    "# 데이터를 학습 세트와 검증 세트로 분할합니다. \n",
    "# test_size=0.2는 데이터를 80:20 비율로 나누며, \n",
    "# random_state=42는 결과 재현성을 보장합니다.\n",
    "X_train, X_val, y_train, y_val = train_test_split(X, y, test_size=0.2, random_state=42)\n",
    "\n",
    "\n",
    "# 3. 모델 학습\n",
    "model = lgb.LGBMClassifier() # LightGBM 분류 모델 객체 생성.\n",
    "model.fit(X_train, y_train)#학습 데이터를 사용하여 모델 학습.\n",
    "y_pred_proba = model.predict_proba(X_val)[:, 1] # 검증 데이터에 대한 이탈 확률 예측.\n",
    "\n",
    "# ROC AUC 점수 계산. \n",
    "# ROC AUC는 이진 분류 모델의 성능을 평가하는 지표로, \n",
    "# 값이 1에 가까울수록 좋은 성능을 나타냅니다.\n",
    "roc_auc = roc_auc_score(y_val, y_pred_proba)"
   ],
   "outputs": [
    {
     "name": "stdout",
     "output_type": "stream",
     "text": [
      "[LightGBM] [Info] Number of positive: 27869, number of negative: 104059\n",
      "[LightGBM] [Info] Auto-choosing row-wise multi-threading, the overhead of testing was 0.000592 seconds.\n",
      "You can set `force_row_wise=true` to remove the overhead.\n",
      "And if memory is not enough, you can set `force_col_wise=true`.\n",
      "[LightGBM] [Info] Total Bins 859\n",
      "[LightGBM] [Info] Number of data points in the train set: 131928, number of used features: 12\n",
      "[LightGBM] [Info] [binary:BoostFromScore]: pavg=0.211244 -> initscore=-1.317443\n",
      "[LightGBM] [Info] Start training from score -1.317443\n"
     ]
    }
   ],
   "execution_count": 21
  },
  {
   "cell_type": "code",
   "id": "bd8d732c",
   "metadata": {
    "execution": {
     "iopub.execute_input": "2024-07-13T00:14:56.192053Z",
     "iopub.status.busy": "2024-07-13T00:14:56.190906Z",
     "iopub.status.idle": "2024-07-13T00:14:56.197125Z",
     "shell.execute_reply": "2024-07-13T00:14:56.196096Z"
    },
    "papermill": {
     "duration": 0.022148,
     "end_time": "2024-07-13T00:14:56.199564",
     "exception": false,
     "start_time": "2024-07-13T00:14:56.177416",
     "status": "completed"
    },
    "tags": [],
    "ExecuteTime": {
     "end_time": "2024-07-13T12:12:16.068425Z",
     "start_time": "2024-07-13T12:12:16.065964Z"
    }
   },
   "source": [
    "# ROC AUC 점수 출력.\n",
    "print(f\"ROC AUC Score: {roc_auc}\")"
   ],
   "outputs": [
    {
     "name": "stdout",
     "output_type": "stream",
     "text": [
      "ROC AUC Score: 0.8902566306859795\n"
     ]
    }
   ],
   "execution_count": 22
  },
  {
   "cell_type": "markdown",
   "id": "17c4e476",
   "metadata": {
    "execution": {
     "iopub.execute_input": "2024-07-13T00:02:51.341387Z",
     "iopub.status.busy": "2024-07-13T00:02:51.340906Z",
     "iopub.status.idle": "2024-07-13T00:02:51.349540Z",
     "shell.execute_reply": "2024-07-13T00:02:51.348014Z",
     "shell.execute_reply.started": "2024-07-13T00:02:51.341355Z"
    },
    "papermill": {
     "duration": 0.012139,
     "end_time": "2024-07-13T00:14:56.224152",
     "exception": false,
     "start_time": "2024-07-13T00:14:56.212013",
     "status": "completed"
    },
    "tags": []
   },
   "source": [
    "---"
   ]
  },
  {
   "cell_type": "markdown",
   "id": "4140025b",
   "metadata": {
    "papermill": {
     "duration": 0.011847,
     "end_time": "2024-07-13T00:14:56.248547",
     "exception": false,
     "start_time": "2024-07-13T00:14:56.236700",
     "status": "completed"
    },
    "tags": []
   },
   "source": [
    "## 7. Final Prediction & Submission Save\n",
    "- 최종 예측 및 결과 저장"
   ]
  },
  {
   "cell_type": "code",
   "id": "72b48baf",
   "metadata": {
    "execution": {
     "iopub.execute_input": "2024-07-13T00:14:56.275373Z",
     "iopub.status.busy": "2024-07-13T00:14:56.274634Z",
     "iopub.status.idle": "2024-07-13T00:14:57.194564Z",
     "shell.execute_reply": "2024-07-13T00:14:57.193501Z"
    },
    "papermill": {
     "duration": 0.936137,
     "end_time": "2024-07-13T00:14:57.197288",
     "exception": false,
     "start_time": "2024-07-13T00:14:56.261151",
     "status": "completed"
    },
    "tags": [],
    "ExecuteTime": {
     "end_time": "2024-07-13T12:12:18.402277Z",
     "start_time": "2024-07-13T12:12:18.295885Z"
    }
   },
   "source": [
    "# 테스트 데이터에 대한 이탈 확률을 예측합니다.\n",
    "# predict_proba 함수는 각 클래스에 대한 확률을 반환하며, \n",
    "# 여기서는 이탈 클래스(양성 클래스)에 대한 확률을 사용합니다.\n",
    "y_test_proba = model.predict_proba(test)[:, 1] \n",
    "y_test_proba_rounded = np.round(y_test_proba, 1)  \n",
    "\n",
    "submission = sample.copy()\n",
    "submission['Exited'] = y_test_proba_rounded\n",
    "submission.to_csv('submission.csv', index=False)"
   ],
   "outputs": [],
   "execution_count": 23
  },
  {
   "cell_type": "code",
   "id": "87c8ed7f",
   "metadata": {
    "execution": {
     "iopub.execute_input": "2024-07-13T00:14:57.224088Z",
     "iopub.status.busy": "2024-07-13T00:14:57.223680Z",
     "iopub.status.idle": "2024-07-13T00:14:57.232976Z",
     "shell.execute_reply": "2024-07-13T00:14:57.231536Z"
    },
    "papermill": {
     "duration": 0.025646,
     "end_time": "2024-07-13T00:14:57.235433",
     "exception": false,
     "start_time": "2024-07-13T00:14:57.209787",
     "status": "completed"
    },
    "tags": [],
    "ExecuteTime": {
     "end_time": "2024-07-13T12:12:19.887563Z",
     "start_time": "2024-07-13T12:12:19.885Z"
    }
   },
   "source": [
    "print(submission)"
   ],
   "outputs": [
    {
     "name": "stdout",
     "output_type": "stream",
     "text": [
      "            id  Exited\n",
      "0       165034     0.0\n",
      "1       165035     0.8\n",
      "2       165036     0.0\n",
      "3       165037     0.2\n",
      "4       165038     0.3\n",
      "...        ...     ...\n",
      "110018  275052     0.0\n",
      "110019  275053     0.1\n",
      "110020  275054     0.0\n",
      "110021  275055     0.1\n",
      "110022  275056     0.2\n",
      "\n",
      "[110023 rows x 2 columns]\n"
     ]
    }
   ],
   "execution_count": 24
  },
  {
   "cell_type": "markdown",
   "id": "ecdf36ef",
   "metadata": {
    "papermill": {
     "duration": 0.01205,
     "end_time": "2024-07-13T00:14:57.259882",
     "exception": false,
     "start_time": "2024-07-13T00:14:57.247832",
     "status": "completed"
    },
    "tags": []
   },
   "source": [
    "---"
   ]
  }
 ],
 "metadata": {
  "kaggle": {
   "accelerator": "none",
   "dataSources": [
    {
     "databundleVersionId": 7405009,
     "sourceId": 65711,
     "sourceType": "competition"
    },
    {
     "datasetId": 3191230,
     "sourceId": 5536933,
     "sourceType": "datasetVersion"
    }
   ],
   "dockerImageVersionId": 30746,
   "isGpuEnabled": false,
   "isInternetEnabled": true,
   "language": "python",
   "sourceType": "notebook"
  },
  "kernelspec": {
   "display_name": "Python 3",
   "language": "python",
   "name": "python3"
  },
  "language_info": {
   "codemirror_mode": {
    "name": "ipython",
    "version": 3
   },
   "file_extension": ".py",
   "mimetype": "text/x-python",
   "name": "python",
   "nbconvert_exporter": "python",
   "pygments_lexer": "ipython3",
   "version": "3.10.13"
  },
  "papermill": {
   "default_parameters": {},
   "duration": 13.178102,
   "end_time": "2024-07-13T00:14:58.019316",
   "environment_variables": {},
   "exception": null,
   "input_path": "__notebook__.ipynb",
   "output_path": "__notebook__.ipynb",
   "parameters": {},
   "start_time": "2024-07-13T00:14:44.841214",
   "version": "2.5.0"
  }
 },
 "nbformat": 4,
 "nbformat_minor": 5
}
