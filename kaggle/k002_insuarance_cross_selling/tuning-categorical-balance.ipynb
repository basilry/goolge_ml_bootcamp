{
 "cells": [
  {
   "cell_type": "code",
   "id": "d90f2314",
   "metadata": {
    "_cell_guid": "b1076dfc-b9ad-4769-8c92-a6c4dae69d19",
    "_uuid": "8f2839f25d086af736a60e9eeb907d3b93b6e0e5",
    "execution": {
     "iopub.execute_input": "2024-07-20T02:35:20.825160Z",
     "iopub.status.busy": "2024-07-20T02:35:20.824812Z",
     "iopub.status.idle": "2024-07-20T02:35:21.577828Z",
     "shell.execute_reply": "2024-07-20T02:35:21.576664Z"
    },
    "papermill": {
     "duration": 0.76496,
     "end_time": "2024-07-20T02:35:21.580557",
     "exception": false,
     "start_time": "2024-07-20T02:35:20.815597",
     "status": "completed"
    },
    "tags": [],
    "ExecuteTime": {
     "end_time": "2024-07-21T10:52:16.453353Z",
     "start_time": "2024-07-21T10:52:16.450284Z"
    }
   },
   "source": [
    "# This Python 3 environment comes with many helpful analytics libraries installed\n",
    "# It is defined by the kaggle/python Docker image: https://github.com/kaggle/docker-python\n",
    "# For example, here's several helpful packages to load\n",
    "\n",
    "import numpy as np # linear algebra\n",
    "import pandas as pd # data processing, CSV file I/O (e.g. pd.read_csv)\n",
    "\n",
    "# Input data files are available in the read-only \"../input/\" directory\n",
    "# For example, running this (by clicking run or pressing Shift+Enter) will list all files under the input directory\n",
    "\n",
    "import os\n",
    "for dirname, _, filenames in os.walk('/kaggle/input'):\n",
    "    for filename in filenames:\n",
    "        print(os.path.join(dirname, filename))\n",
    "\n",
    "# You can write up to 20GB to the current directory (/kaggle/working/) that gets preserved as output when you create a version using \"Save & Run All\" \n",
    "# You can also write temporary files to /kaggle/temp/, but they won't be saved outside of the current session"
   ],
   "outputs": [],
   "execution_count": 45
  },
  {
   "cell_type": "code",
   "id": "72a551a3",
   "metadata": {
    "execution": {
     "iopub.execute_input": "2024-07-20T02:35:21.599314Z",
     "iopub.status.busy": "2024-07-20T02:35:21.598905Z",
     "iopub.status.idle": "2024-07-20T02:35:21.604504Z",
     "shell.execute_reply": "2024-07-20T02:35:21.603633Z"
    },
    "papermill": {
     "duration": 0.016784,
     "end_time": "2024-07-20T02:35:21.606626",
     "exception": false,
     "start_time": "2024-07-20T02:35:21.589842",
     "status": "completed"
    },
    "tags": [],
    "ExecuteTime": {
     "end_time": "2024-07-21T10:52:16.841361Z",
     "start_time": "2024-07-21T10:52:16.839088Z"
    }
   },
   "source": [
    "SEED = 1"
   ],
   "outputs": [],
   "execution_count": 46
  },
  {
   "cell_type": "code",
   "id": "39f49652",
   "metadata": {
    "execution": {
     "iopub.execute_input": "2024-07-20T02:35:21.624071Z",
     "iopub.status.busy": "2024-07-20T02:35:21.623793Z",
     "iopub.status.idle": "2024-07-20T02:35:23.123751Z",
     "shell.execute_reply": "2024-07-20T02:35:23.122867Z"
    },
    "papermill": {
     "duration": 1.511815,
     "end_time": "2024-07-20T02:35:23.126426",
     "exception": false,
     "start_time": "2024-07-20T02:35:21.614611",
     "status": "completed"
    },
    "tags": [],
    "ExecuteTime": {
     "end_time": "2024-07-21T10:52:57.947937Z",
     "start_time": "2024-07-21T10:52:57.719706Z"
    }
   },
   "source": [
    "import pandas as pd\n",
    "from sklearn.model_selection import train_test_split\n",
    "import xgboost as xgb\n",
    "from pathlib import Path\n",
    "import catboost as cb\n",
    "import numpy as np"
   ],
   "outputs": [
    {
     "ename": "ValueError",
     "evalue": "numpy.dtype size changed, may indicate binary incompatibility. Expected 96 from C header, got 88 from PyObject",
     "output_type": "error",
     "traceback": [
      "\u001B[0;31m---------------------------------------------------------------------------\u001B[0m",
      "\u001B[0;31mValueError\u001B[0m                                Traceback (most recent call last)",
      "Cell \u001B[0;32mIn[48], line 5\u001B[0m\n\u001B[1;32m      3\u001B[0m \u001B[38;5;28;01mimport\u001B[39;00m \u001B[38;5;21;01mxgboost\u001B[39;00m \u001B[38;5;28;01mas\u001B[39;00m \u001B[38;5;21;01mxgb\u001B[39;00m\n\u001B[1;32m      4\u001B[0m \u001B[38;5;28;01mfrom\u001B[39;00m \u001B[38;5;21;01mpathlib\u001B[39;00m \u001B[38;5;28;01mimport\u001B[39;00m Path\n\u001B[0;32m----> 5\u001B[0m \u001B[38;5;28;01mimport\u001B[39;00m \u001B[38;5;21;01mcatboost\u001B[39;00m \u001B[38;5;28;01mas\u001B[39;00m \u001B[38;5;21;01mcb\u001B[39;00m\n\u001B[1;32m      6\u001B[0m \u001B[38;5;28;01mimport\u001B[39;00m \u001B[38;5;21;01mnumpy\u001B[39;00m \u001B[38;5;28;01mas\u001B[39;00m \u001B[38;5;21;01mnp\u001B[39;00m\n",
      "File \u001B[0;32m~/Projects/006_google_ml_bootcamp/venv/lib/python3.12/site-packages/catboost/__init__.py:1\u001B[0m\n\u001B[0;32m----> 1\u001B[0m \u001B[38;5;28;01mfrom\u001B[39;00m \u001B[38;5;21;01m.\u001B[39;00m\u001B[38;5;21;01mcore\u001B[39;00m \u001B[38;5;28;01mimport\u001B[39;00m (\n\u001B[1;32m      2\u001B[0m     FeaturesData, EFstrType, EShapCalcType, EFeaturesSelectionAlgorithm, EFeaturesSelectionGrouping,\n\u001B[1;32m      3\u001B[0m     Pool, CatBoost, CatBoostClassifier, CatBoostRegressor, CatBoostRanker, CatBoostError, cv, sample_gaussian_process, train,\n\u001B[1;32m      4\u001B[0m     sum_models, _have_equal_features, to_regressor, to_classifier, to_ranker, MultiRegressionCustomMetric,\n\u001B[1;32m      5\u001B[0m     MultiRegressionCustomObjective, MultiTargetCustomMetric, MultiTargetCustomObjective\n\u001B[1;32m      6\u001B[0m )  \u001B[38;5;66;03m# noqa\u001B[39;00m\n\u001B[1;32m      7\u001B[0m \u001B[38;5;28;01mfrom\u001B[39;00m \u001B[38;5;21;01m.\u001B[39;00m\u001B[38;5;21;01mversion\u001B[39;00m \u001B[38;5;28;01mimport\u001B[39;00m VERSION \u001B[38;5;28;01mas\u001B[39;00m __version__  \u001B[38;5;66;03m# noqa\u001B[39;00m\n\u001B[1;32m      8\u001B[0m __all__ \u001B[38;5;241m=\u001B[39m [\n\u001B[1;32m      9\u001B[0m     \u001B[38;5;124m'\u001B[39m\u001B[38;5;124mFeaturesData\u001B[39m\u001B[38;5;124m'\u001B[39m, \u001B[38;5;124m'\u001B[39m\u001B[38;5;124mEFstrType\u001B[39m\u001B[38;5;124m'\u001B[39m, \u001B[38;5;124m'\u001B[39m\u001B[38;5;124mEShapCalcType\u001B[39m\u001B[38;5;124m'\u001B[39m, \u001B[38;5;124m'\u001B[39m\u001B[38;5;124mEFeaturesSelectionAlgorithm\u001B[39m\u001B[38;5;124m'\u001B[39m, \u001B[38;5;124m'\u001B[39m\u001B[38;5;124mEFeaturesSelectionGrouping\u001B[39m\u001B[38;5;124m'\u001B[39m,\n\u001B[1;32m     10\u001B[0m     \u001B[38;5;124m'\u001B[39m\u001B[38;5;124mPool\u001B[39m\u001B[38;5;124m'\u001B[39m, \u001B[38;5;124m'\u001B[39m\u001B[38;5;124mCatBoost\u001B[39m\u001B[38;5;124m'\u001B[39m, \u001B[38;5;124m'\u001B[39m\u001B[38;5;124mCatBoostClassifier\u001B[39m\u001B[38;5;124m'\u001B[39m, \u001B[38;5;124m'\u001B[39m\u001B[38;5;124mCatBoostRegressor\u001B[39m\u001B[38;5;124m'\u001B[39m, \u001B[38;5;124m'\u001B[39m\u001B[38;5;124mCatBoostRanker\u001B[39m\u001B[38;5;124m'\u001B[39m, \u001B[38;5;124m'\u001B[39m\u001B[38;5;124mCatboostError\u001B[39m\u001B[38;5;124m'\u001B[39m,\n\u001B[0;32m   (...)\u001B[0m\n\u001B[1;32m     13\u001B[0m     \u001B[38;5;124m'\u001B[39m\u001B[38;5;124mMultiTargetCustomMetric\u001B[39m\u001B[38;5;124m'\u001B[39m, \u001B[38;5;124m'\u001B[39m\u001B[38;5;124mMultiTargetCustomObjective\u001B[39m\u001B[38;5;124m'\u001B[39m\n\u001B[1;32m     14\u001B[0m ]\n",
      "File \u001B[0;32m~/Projects/006_google_ml_bootcamp/venv/lib/python3.12/site-packages/catboost/core.py:45\u001B[0m\n\u001B[1;32m     40\u001B[0m         \u001B[38;5;28;01mpass\u001B[39;00m\n\u001B[1;32m     42\u001B[0m \u001B[38;5;28;01mimport\u001B[39;00m \u001B[38;5;21;01mscipy\u001B[39;00m\u001B[38;5;21;01m.\u001B[39;00m\u001B[38;5;21;01msparse\u001B[39;00m\n\u001B[0;32m---> 45\u001B[0m \u001B[38;5;28;01mfrom\u001B[39;00m \u001B[38;5;21;01m.\u001B[39;00m\u001B[38;5;21;01mplot_helpers\u001B[39;00m \u001B[38;5;28;01mimport\u001B[39;00m save_plot_file, try_plot_offline, OfflineMetricVisualizer\n\u001B[1;32m     46\u001B[0m \u001B[38;5;28;01mfrom\u001B[39;00m \u001B[38;5;21;01m.\u001B[39;00m \u001B[38;5;28;01mimport\u001B[39;00m _catboost\n\u001B[1;32m     47\u001B[0m \u001B[38;5;28;01mfrom\u001B[39;00m \u001B[38;5;21;01m.\u001B[39;00m\u001B[38;5;21;01mmetrics\u001B[39;00m \u001B[38;5;28;01mimport\u001B[39;00m BuiltinMetric\n",
      "File \u001B[0;32m~/Projects/006_google_ml_bootcamp/venv/lib/python3.12/site-packages/catboost/plot_helpers.py:5\u001B[0m\n\u001B[1;32m      2\u001B[0m \u001B[38;5;28;01mimport\u001B[39;00m \u001B[38;5;21;01mos\u001B[39;00m\n\u001B[1;32m      3\u001B[0m \u001B[38;5;28;01mimport\u001B[39;00m \u001B[38;5;21;01mwarnings\u001B[39;00m\n\u001B[0;32m----> 5\u001B[0m \u001B[38;5;28;01mfrom\u001B[39;00m \u001B[38;5;21;01m.\u001B[39;00m \u001B[38;5;28;01mimport\u001B[39;00m _catboost\n\u001B[1;32m      6\u001B[0m fspath \u001B[38;5;241m=\u001B[39m _catboost\u001B[38;5;241m.\u001B[39mfspath\n\u001B[1;32m      9\u001B[0m \u001B[38;5;28;01mdef\u001B[39;00m \u001B[38;5;21mtry_plot_offline\u001B[39m(figs):\n",
      "File \u001B[0;32m_catboost.pyx:1\u001B[0m, in \u001B[0;36minit _catboost\u001B[0;34m()\u001B[0m\n",
      "\u001B[0;31mValueError\u001B[0m: numpy.dtype size changed, may indicate binary incompatibility. Expected 96 from C header, got 88 from PyObject"
     ]
    }
   ],
   "execution_count": 48
  },
  {
   "cell_type": "markdown",
   "id": "1bccae69",
   "metadata": {
    "papermill": {
     "duration": 0.007628,
     "end_time": "2024-07-20T02:35:23.142669",
     "exception": false,
     "start_time": "2024-07-20T02:35:23.135041",
     "status": "completed"
    },
    "tags": []
   },
   "source": [
    "# Utils for data preprocessing\n",
    "\n",
    "- setting all features as categorical provides huge performance boost for catboost\n",
    "- setting object/string type features as categorical provides decent performance boost for xgboost\n",
    "\n",
    "Referenced from https://www.kaggle.com/code/rohanrao/automl-grand-prix-1st-place-solution/notebook"
   ]
  },
  {
   "cell_type": "code",
   "id": "1918acf5",
   "metadata": {
    "execution": {
     "iopub.execute_input": "2024-07-20T02:35:23.159834Z",
     "iopub.status.busy": "2024-07-20T02:35:23.159390Z",
     "iopub.status.idle": "2024-07-20T02:35:23.164633Z",
     "shell.execute_reply": "2024-07-20T02:35:23.163474Z"
    },
    "papermill": {
     "duration": 0.016946,
     "end_time": "2024-07-20T02:35:23.167028",
     "exception": false,
     "start_time": "2024-07-20T02:35:23.150082",
     "status": "completed"
    },
    "tags": [],
    "ExecuteTime": {
     "end_time": "2024-07-21T10:33:01.033488Z",
     "start_time": "2024-07-21T10:33:01.031978Z"
    }
   },
   "source": "DATA_DIR = Path('')",
   "outputs": [],
   "execution_count": 33
  },
  {
   "cell_type": "code",
   "id": "c84b90df",
   "metadata": {
    "execution": {
     "iopub.execute_input": "2024-07-20T02:35:23.186751Z",
     "iopub.status.busy": "2024-07-20T02:35:23.186281Z",
     "iopub.status.idle": "2024-07-20T02:35:23.206540Z",
     "shell.execute_reply": "2024-07-20T02:35:23.205502Z"
    },
    "papermill": {
     "duration": 0.033006,
     "end_time": "2024-07-20T02:35:23.208953",
     "exception": false,
     "start_time": "2024-07-20T02:35:23.175947",
     "status": "completed"
    },
    "tags": [],
    "ExecuteTime": {
     "end_time": "2024-07-21T10:33:01.325700Z",
     "start_time": "2024-07-21T10:33:01.320894Z"
    }
   },
   "source": [
    "# preprocessing so that catboost can recognize them as categorical features\n",
    "def float64_to_int64(df: pd.DataFrame):\n",
    "    # convert all numerical features into integers\n",
    "    float64_cols = df.select_dtypes(include=['float64']).columns\n",
    "    df[float64_cols] = df[float64_cols].astype('int64')\n",
    "\n",
    "def retrieve_train_dev_test_for_catboost():\n",
    "    train = pd.read_csv(DATA_DIR / 'train.csv')\n",
    "    test = pd.read_csv(DATA_DIR / 'test.csv')\n",
    "\n",
    "    dev = train[ :int(0.01 * len(train))]\n",
    "\n",
    "    # # oversample the minority class\n",
    "    # train_extra = pd.read_csv(DATA_DIR / 'train_extra.csv')\n",
    "    # oversampled = train_extra[train_extra['Response'] == 1]\n",
    "\n",
    "    # train = pd.concat([train[int(0.01 * len(train)): ], oversampled], ignore_index=True)\n",
    "    train = train[int(0.01 * len(train)): ]\n",
    "\n",
    "    # drop index column\n",
    "    train = train.drop(columns=['id'])\n",
    "    dev = dev.drop(columns=['id'])\n",
    "    test = test.drop(columns=['id'])\n",
    "\n",
    "\n",
    "    # convert float64 to int64\n",
    "    float64_to_int64(train)\n",
    "    float64_to_int64(dev)\n",
    "    float64_to_int64(test)\n",
    "\n",
    "    return train, dev, test\n",
    "\n",
    "\n",
    "def retrieve_train_dev_test_as_category_for_xgboost():\n",
    "    train = pd.read_csv(DATA_DIR / 'train.csv')\n",
    "    test = pd.read_csv(DATA_DIR / 'test.csv')\n",
    "\n",
    "    dev = train[ :int(0.01 * len(train))]\n",
    "    train = train[int(0.01 * len(train)): ]\n",
    "\n",
    "    # drop index column\n",
    "    train = train.drop(columns=['id'])\n",
    "    dev = dev.drop(columns=['id'])\n",
    "    test = test.drop(columns=['id'])\n",
    "\n",
    "    for col in train.columns:\n",
    "        if col not in  ['Vehicle_Age', 'Gender', 'Vehicle_Damage']:\n",
    "            continue\n",
    "        train[col] = train[col].astype('category')\n",
    "        dev[col] = dev[col].astype('category')\n",
    "        test[col] = test[col].astype('category')\n",
    "    \n",
    "    return train, dev, test\n",
    "\n",
    "def split_input_output(df: pd.DataFrame):\n",
    "    x = df.drop(columns=['Response'])\n",
    "    y = df['Response']\n",
    "\n",
    "    return x, y"
   ],
   "outputs": [],
   "execution_count": 34
  },
  {
   "cell_type": "markdown",
   "id": "c4d5ed4d",
   "metadata": {
    "papermill": {
     "duration": 0.008419,
     "end_time": "2024-07-20T02:35:23.225938",
     "exception": false,
     "start_time": "2024-07-20T02:35:23.217519",
     "status": "completed"
    },
    "tags": []
   },
   "source": [
    "# XGBoost \n",
    "- scale_class_weight = sum_of_minor / sum_of_major\n",
    "- enable_categorical=True"
   ]
  },
  {
   "cell_type": "code",
   "id": "8faa681e",
   "metadata": {
    "execution": {
     "iopub.execute_input": "2024-07-20T02:35:23.244953Z",
     "iopub.status.busy": "2024-07-20T02:35:23.244508Z",
     "iopub.status.idle": "2024-07-20T02:36:06.754469Z",
     "shell.execute_reply": "2024-07-20T02:36:06.753567Z"
    },
    "papermill": {
     "duration": 43.522939,
     "end_time": "2024-07-20T02:36:06.757552",
     "exception": false,
     "start_time": "2024-07-20T02:35:23.234613",
     "status": "completed"
    },
    "tags": [],
    "ExecuteTime": {
     "end_time": "2024-07-21T10:33:10.801518Z",
     "start_time": "2024-07-21T10:33:02.399846Z"
    }
   },
   "source": [
    "train_df, dev_df, test_df = retrieve_train_dev_test_as_category_for_xgboost()\n",
    "X_train, Y_train = split_input_output(train_df)\n",
    "X_dev, Y_dev = split_input_output(dev_df)"
   ],
   "outputs": [],
   "execution_count": 35
  },
  {
   "cell_type": "code",
   "id": "38550e01",
   "metadata": {
    "execution": {
     "iopub.execute_input": "2024-07-20T02:36:06.776119Z",
     "iopub.status.busy": "2024-07-20T02:36:06.775797Z",
     "iopub.status.idle": "2024-07-20T02:36:06.782918Z",
     "shell.execute_reply": "2024-07-20T02:36:06.781673Z"
    },
    "papermill": {
     "duration": 0.019264,
     "end_time": "2024-07-20T02:36:06.785522",
     "exception": false,
     "start_time": "2024-07-20T02:36:06.766258",
     "status": "completed"
    },
    "tags": [],
    "ExecuteTime": {
     "end_time": "2024-07-21T10:33:15.006680Z",
     "start_time": "2024-07-21T10:33:15.004790Z"
    }
   },
   "source": [
    "xgboost_params = {\n",
    "    # const params used in training\n",
    "    'n_estimators': 500,\n",
    "    'objective': 'binary:logistic',\n",
    "    'tree_method': 'hist',\n",
    "    'eval_metric': 'auc',\n",
    "    'device': 'cuda',\n",
    "    'random_state': SEED,\n",
    "    'early_stopping_rounds': 50,\n",
    "    \n",
    "    # fixed after first case study\n",
    "    'learning_rate': 0.05,\n",
    "    'gamma': 0.001,\n",
    "    'subsample': 0.8,\n",
    "    'reg_lambda': 0.2,\n",
    "    'max_bin': 32767,\n",
    "    \n",
    "    \n",
    "    # fixed after secone optimization\n",
    "    'colsample_bytree': 0.21039136022674532,\n",
    "    'max_depth': 27,\n",
    "    'min_child_weight': 36,\n",
    "    \n",
    "    # override fixed params\n",
    "    'n_estimators': 5000,\n",
    "    'early_stopping_rounds': 200,\n",
    "    \n",
    "    # categorical features\n",
    "    'enable_categorical': True,\n",
    "}"
   ],
   "outputs": [],
   "execution_count": 36
  },
  {
   "cell_type": "code",
   "id": "188d1c4a",
   "metadata": {
    "execution": {
     "iopub.execute_input": "2024-07-20T02:36:06.803434Z",
     "iopub.status.busy": "2024-07-20T02:36:06.802606Z",
     "iopub.status.idle": "2024-07-20T02:36:06.833920Z",
     "shell.execute_reply": "2024-07-20T02:36:06.832964Z"
    },
    "papermill": {
     "duration": 0.042461,
     "end_time": "2024-07-20T02:36:06.836089",
     "exception": false,
     "start_time": "2024-07-20T02:36:06.793628",
     "status": "completed"
    },
    "tags": [],
    "ExecuteTime": {
     "end_time": "2024-07-21T10:33:16.031085Z",
     "start_time": "2024-07-21T10:33:16.014171Z"
    }
   },
   "source": [
    "# scale_pos_weight for imbalanced data boosts performance a bit for xgboost\n",
    "scale_pos_weight = np.sum(Y_train == 0) / np.sum(Y_train == 1)"
   ],
   "outputs": [],
   "execution_count": 37
  },
  {
   "cell_type": "code",
   "id": "a52f6ae3",
   "metadata": {
    "execution": {
     "iopub.execute_input": "2024-07-20T02:36:06.852961Z",
     "iopub.status.busy": "2024-07-20T02:36:06.852624Z",
     "iopub.status.idle": "2024-07-20T02:47:25.700776Z",
     "shell.execute_reply": "2024-07-20T02:47:25.699727Z"
    },
    "papermill": {
     "duration": 678.859573,
     "end_time": "2024-07-20T02:47:25.703110",
     "exception": false,
     "start_time": "2024-07-20T02:36:06.843537",
     "status": "completed"
    },
    "tags": [],
    "ExecuteTime": {
     "end_time": "2024-07-21T10:39:29.152594Z",
     "start_time": "2024-07-21T10:33:16.902077Z"
    }
   },
   "source": [
    "evals = [(X_dev, Y_dev)]\n",
    "model = xgb.XGBClassifier(\n",
    "    **xgboost_params,\n",
    "    scale_pos_weight=scale_pos_weight,\n",
    ")\n",
    "model.fit(X_train, Y_train, eval_set=evals, verbose=100)"
   ],
   "outputs": [
    {
     "name": "stdout",
     "output_type": "stream",
     "text": [
      "[0]\tvalidation_0-auc:0.80454\n",
      "[100]\tvalidation_0-auc:0.88469\n",
      "[200]\tvalidation_0-auc:0.88970\n",
      "[300]\tvalidation_0-auc:0.89098\n",
      "[400]\tvalidation_0-auc:0.89155\n",
      "[500]\tvalidation_0-auc:0.89192\n",
      "[600]\tvalidation_0-auc:0.89214\n",
      "[700]\tvalidation_0-auc:0.89229\n",
      "[800]\tvalidation_0-auc:0.89241\n",
      "[900]\tvalidation_0-auc:0.89243\n",
      "[1000]\tvalidation_0-auc:0.89244\n",
      "[1100]\tvalidation_0-auc:0.89247\n",
      "[1200]\tvalidation_0-auc:0.89241\n",
      "[1300]\tvalidation_0-auc:0.89235\n",
      "[1307]\tvalidation_0-auc:0.89232\n"
     ]
    },
    {
     "data": {
      "text/plain": [
       "XGBClassifier(base_score=None, booster=None, callbacks=None,\n",
       "              colsample_bylevel=None, colsample_bynode=None,\n",
       "              colsample_bytree=0.21039136022674532, device='cuda',\n",
       "              early_stopping_rounds=200, enable_categorical=True,\n",
       "              eval_metric='auc', feature_types=None, gamma=0.001,\n",
       "              grow_policy=None, importance_type=None,\n",
       "              interaction_constraints=None, learning_rate=0.05, max_bin=32767,\n",
       "              max_cat_threshold=None, max_cat_to_onehot=None,\n",
       "              max_delta_step=None, max_depth=27, max_leaves=None,\n",
       "              min_child_weight=36, missing=nan, monotone_constraints=None,\n",
       "              multi_strategy=None, n_estimators=5000, n_jobs=None,\n",
       "              num_parallel_tree=None, random_state=1, ...)"
      ],
      "text/html": [
       "<style>#sk-container-id-1 {\n",
       "  /* Definition of color scheme common for light and dark mode */\n",
       "  --sklearn-color-text: black;\n",
       "  --sklearn-color-line: gray;\n",
       "  /* Definition of color scheme for unfitted estimators */\n",
       "  --sklearn-color-unfitted-level-0: #fff5e6;\n",
       "  --sklearn-color-unfitted-level-1: #f6e4d2;\n",
       "  --sklearn-color-unfitted-level-2: #ffe0b3;\n",
       "  --sklearn-color-unfitted-level-3: chocolate;\n",
       "  /* Definition of color scheme for fitted estimators */\n",
       "  --sklearn-color-fitted-level-0: #f0f8ff;\n",
       "  --sklearn-color-fitted-level-1: #d4ebff;\n",
       "  --sklearn-color-fitted-level-2: #b3dbfd;\n",
       "  --sklearn-color-fitted-level-3: cornflowerblue;\n",
       "\n",
       "  /* Specific color for light theme */\n",
       "  --sklearn-color-text-on-default-background: var(--sg-text-color, var(--theme-code-foreground, var(--jp-content-font-color1, black)));\n",
       "  --sklearn-color-background: var(--sg-background-color, var(--theme-background, var(--jp-layout-color0, white)));\n",
       "  --sklearn-color-border-box: var(--sg-text-color, var(--theme-code-foreground, var(--jp-content-font-color1, black)));\n",
       "  --sklearn-color-icon: #696969;\n",
       "\n",
       "  @media (prefers-color-scheme: dark) {\n",
       "    /* Redefinition of color scheme for dark theme */\n",
       "    --sklearn-color-text-on-default-background: var(--sg-text-color, var(--theme-code-foreground, var(--jp-content-font-color1, white)));\n",
       "    --sklearn-color-background: var(--sg-background-color, var(--theme-background, var(--jp-layout-color0, #111)));\n",
       "    --sklearn-color-border-box: var(--sg-text-color, var(--theme-code-foreground, var(--jp-content-font-color1, white)));\n",
       "    --sklearn-color-icon: #878787;\n",
       "  }\n",
       "}\n",
       "\n",
       "#sk-container-id-1 {\n",
       "  color: var(--sklearn-color-text);\n",
       "}\n",
       "\n",
       "#sk-container-id-1 pre {\n",
       "  padding: 0;\n",
       "}\n",
       "\n",
       "#sk-container-id-1 input.sk-hidden--visually {\n",
       "  border: 0;\n",
       "  clip: rect(1px 1px 1px 1px);\n",
       "  clip: rect(1px, 1px, 1px, 1px);\n",
       "  height: 1px;\n",
       "  margin: -1px;\n",
       "  overflow: hidden;\n",
       "  padding: 0;\n",
       "  position: absolute;\n",
       "  width: 1px;\n",
       "}\n",
       "\n",
       "#sk-container-id-1 div.sk-dashed-wrapped {\n",
       "  border: 1px dashed var(--sklearn-color-line);\n",
       "  margin: 0 0.4em 0.5em 0.4em;\n",
       "  box-sizing: border-box;\n",
       "  padding-bottom: 0.4em;\n",
       "  background-color: var(--sklearn-color-background);\n",
       "}\n",
       "\n",
       "#sk-container-id-1 div.sk-container {\n",
       "  /* jupyter's `normalize.less` sets `[hidden] { display: none; }`\n",
       "     but bootstrap.min.css set `[hidden] { display: none !important; }`\n",
       "     so we also need the `!important` here to be able to override the\n",
       "     default hidden behavior on the sphinx rendered scikit-learn.org.\n",
       "     See: https://github.com/scikit-learn/scikit-learn/issues/21755 */\n",
       "  display: inline-block !important;\n",
       "  position: relative;\n",
       "}\n",
       "\n",
       "#sk-container-id-1 div.sk-text-repr-fallback {\n",
       "  display: none;\n",
       "}\n",
       "\n",
       "div.sk-parallel-item,\n",
       "div.sk-serial,\n",
       "div.sk-item {\n",
       "  /* draw centered vertical line to link estimators */\n",
       "  background-image: linear-gradient(var(--sklearn-color-text-on-default-background), var(--sklearn-color-text-on-default-background));\n",
       "  background-size: 2px 100%;\n",
       "  background-repeat: no-repeat;\n",
       "  background-position: center center;\n",
       "}\n",
       "\n",
       "/* Parallel-specific style estimator block */\n",
       "\n",
       "#sk-container-id-1 div.sk-parallel-item::after {\n",
       "  content: \"\";\n",
       "  width: 100%;\n",
       "  border-bottom: 2px solid var(--sklearn-color-text-on-default-background);\n",
       "  flex-grow: 1;\n",
       "}\n",
       "\n",
       "#sk-container-id-1 div.sk-parallel {\n",
       "  display: flex;\n",
       "  align-items: stretch;\n",
       "  justify-content: center;\n",
       "  background-color: var(--sklearn-color-background);\n",
       "  position: relative;\n",
       "}\n",
       "\n",
       "#sk-container-id-1 div.sk-parallel-item {\n",
       "  display: flex;\n",
       "  flex-direction: column;\n",
       "}\n",
       "\n",
       "#sk-container-id-1 div.sk-parallel-item:first-child::after {\n",
       "  align-self: flex-end;\n",
       "  width: 50%;\n",
       "}\n",
       "\n",
       "#sk-container-id-1 div.sk-parallel-item:last-child::after {\n",
       "  align-self: flex-start;\n",
       "  width: 50%;\n",
       "}\n",
       "\n",
       "#sk-container-id-1 div.sk-parallel-item:only-child::after {\n",
       "  width: 0;\n",
       "}\n",
       "\n",
       "/* Serial-specific style estimator block */\n",
       "\n",
       "#sk-container-id-1 div.sk-serial {\n",
       "  display: flex;\n",
       "  flex-direction: column;\n",
       "  align-items: center;\n",
       "  background-color: var(--sklearn-color-background);\n",
       "  padding-right: 1em;\n",
       "  padding-left: 1em;\n",
       "}\n",
       "\n",
       "\n",
       "/* Toggleable style: style used for estimator/Pipeline/ColumnTransformer box that is\n",
       "clickable and can be expanded/collapsed.\n",
       "- Pipeline and ColumnTransformer use this feature and define the default style\n",
       "- Estimators will overwrite some part of the style using the `sk-estimator` class\n",
       "*/\n",
       "\n",
       "/* Pipeline and ColumnTransformer style (default) */\n",
       "\n",
       "#sk-container-id-1 div.sk-toggleable {\n",
       "  /* Default theme specific background. It is overwritten whether we have a\n",
       "  specific estimator or a Pipeline/ColumnTransformer */\n",
       "  background-color: var(--sklearn-color-background);\n",
       "}\n",
       "\n",
       "/* Toggleable label */\n",
       "#sk-container-id-1 label.sk-toggleable__label {\n",
       "  cursor: pointer;\n",
       "  display: block;\n",
       "  width: 100%;\n",
       "  margin-bottom: 0;\n",
       "  padding: 0.5em;\n",
       "  box-sizing: border-box;\n",
       "  text-align: center;\n",
       "}\n",
       "\n",
       "#sk-container-id-1 label.sk-toggleable__label-arrow:before {\n",
       "  /* Arrow on the left of the label */\n",
       "  content: \"▸\";\n",
       "  float: left;\n",
       "  margin-right: 0.25em;\n",
       "  color: var(--sklearn-color-icon);\n",
       "}\n",
       "\n",
       "#sk-container-id-1 label.sk-toggleable__label-arrow:hover:before {\n",
       "  color: var(--sklearn-color-text);\n",
       "}\n",
       "\n",
       "/* Toggleable content - dropdown */\n",
       "\n",
       "#sk-container-id-1 div.sk-toggleable__content {\n",
       "  max-height: 0;\n",
       "  max-width: 0;\n",
       "  overflow: hidden;\n",
       "  text-align: left;\n",
       "  /* unfitted */\n",
       "  background-color: var(--sklearn-color-unfitted-level-0);\n",
       "}\n",
       "\n",
       "#sk-container-id-1 div.sk-toggleable__content.fitted {\n",
       "  /* fitted */\n",
       "  background-color: var(--sklearn-color-fitted-level-0);\n",
       "}\n",
       "\n",
       "#sk-container-id-1 div.sk-toggleable__content pre {\n",
       "  margin: 0.2em;\n",
       "  border-radius: 0.25em;\n",
       "  color: var(--sklearn-color-text);\n",
       "  /* unfitted */\n",
       "  background-color: var(--sklearn-color-unfitted-level-0);\n",
       "}\n",
       "\n",
       "#sk-container-id-1 div.sk-toggleable__content.fitted pre {\n",
       "  /* unfitted */\n",
       "  background-color: var(--sklearn-color-fitted-level-0);\n",
       "}\n",
       "\n",
       "#sk-container-id-1 input.sk-toggleable__control:checked~div.sk-toggleable__content {\n",
       "  /* Expand drop-down */\n",
       "  max-height: 200px;\n",
       "  max-width: 100%;\n",
       "  overflow: auto;\n",
       "}\n",
       "\n",
       "#sk-container-id-1 input.sk-toggleable__control:checked~label.sk-toggleable__label-arrow:before {\n",
       "  content: \"▾\";\n",
       "}\n",
       "\n",
       "/* Pipeline/ColumnTransformer-specific style */\n",
       "\n",
       "#sk-container-id-1 div.sk-label input.sk-toggleable__control:checked~label.sk-toggleable__label {\n",
       "  color: var(--sklearn-color-text);\n",
       "  background-color: var(--sklearn-color-unfitted-level-2);\n",
       "}\n",
       "\n",
       "#sk-container-id-1 div.sk-label.fitted input.sk-toggleable__control:checked~label.sk-toggleable__label {\n",
       "  background-color: var(--sklearn-color-fitted-level-2);\n",
       "}\n",
       "\n",
       "/* Estimator-specific style */\n",
       "\n",
       "/* Colorize estimator box */\n",
       "#sk-container-id-1 div.sk-estimator input.sk-toggleable__control:checked~label.sk-toggleable__label {\n",
       "  /* unfitted */\n",
       "  background-color: var(--sklearn-color-unfitted-level-2);\n",
       "}\n",
       "\n",
       "#sk-container-id-1 div.sk-estimator.fitted input.sk-toggleable__control:checked~label.sk-toggleable__label {\n",
       "  /* fitted */\n",
       "  background-color: var(--sklearn-color-fitted-level-2);\n",
       "}\n",
       "\n",
       "#sk-container-id-1 div.sk-label label.sk-toggleable__label,\n",
       "#sk-container-id-1 div.sk-label label {\n",
       "  /* The background is the default theme color */\n",
       "  color: var(--sklearn-color-text-on-default-background);\n",
       "}\n",
       "\n",
       "/* On hover, darken the color of the background */\n",
       "#sk-container-id-1 div.sk-label:hover label.sk-toggleable__label {\n",
       "  color: var(--sklearn-color-text);\n",
       "  background-color: var(--sklearn-color-unfitted-level-2);\n",
       "}\n",
       "\n",
       "/* Label box, darken color on hover, fitted */\n",
       "#sk-container-id-1 div.sk-label.fitted:hover label.sk-toggleable__label.fitted {\n",
       "  color: var(--sklearn-color-text);\n",
       "  background-color: var(--sklearn-color-fitted-level-2);\n",
       "}\n",
       "\n",
       "/* Estimator label */\n",
       "\n",
       "#sk-container-id-1 div.sk-label label {\n",
       "  font-family: monospace;\n",
       "  font-weight: bold;\n",
       "  display: inline-block;\n",
       "  line-height: 1.2em;\n",
       "}\n",
       "\n",
       "#sk-container-id-1 div.sk-label-container {\n",
       "  text-align: center;\n",
       "}\n",
       "\n",
       "/* Estimator-specific */\n",
       "#sk-container-id-1 div.sk-estimator {\n",
       "  font-family: monospace;\n",
       "  border: 1px dotted var(--sklearn-color-border-box);\n",
       "  border-radius: 0.25em;\n",
       "  box-sizing: border-box;\n",
       "  margin-bottom: 0.5em;\n",
       "  /* unfitted */\n",
       "  background-color: var(--sklearn-color-unfitted-level-0);\n",
       "}\n",
       "\n",
       "#sk-container-id-1 div.sk-estimator.fitted {\n",
       "  /* fitted */\n",
       "  background-color: var(--sklearn-color-fitted-level-0);\n",
       "}\n",
       "\n",
       "/* on hover */\n",
       "#sk-container-id-1 div.sk-estimator:hover {\n",
       "  /* unfitted */\n",
       "  background-color: var(--sklearn-color-unfitted-level-2);\n",
       "}\n",
       "\n",
       "#sk-container-id-1 div.sk-estimator.fitted:hover {\n",
       "  /* fitted */\n",
       "  background-color: var(--sklearn-color-fitted-level-2);\n",
       "}\n",
       "\n",
       "/* Specification for estimator info (e.g. \"i\" and \"?\") */\n",
       "\n",
       "/* Common style for \"i\" and \"?\" */\n",
       "\n",
       ".sk-estimator-doc-link,\n",
       "a:link.sk-estimator-doc-link,\n",
       "a:visited.sk-estimator-doc-link {\n",
       "  float: right;\n",
       "  font-size: smaller;\n",
       "  line-height: 1em;\n",
       "  font-family: monospace;\n",
       "  background-color: var(--sklearn-color-background);\n",
       "  border-radius: 1em;\n",
       "  height: 1em;\n",
       "  width: 1em;\n",
       "  text-decoration: none !important;\n",
       "  margin-left: 1ex;\n",
       "  /* unfitted */\n",
       "  border: var(--sklearn-color-unfitted-level-1) 1pt solid;\n",
       "  color: var(--sklearn-color-unfitted-level-1);\n",
       "}\n",
       "\n",
       ".sk-estimator-doc-link.fitted,\n",
       "a:link.sk-estimator-doc-link.fitted,\n",
       "a:visited.sk-estimator-doc-link.fitted {\n",
       "  /* fitted */\n",
       "  border: var(--sklearn-color-fitted-level-1) 1pt solid;\n",
       "  color: var(--sklearn-color-fitted-level-1);\n",
       "}\n",
       "\n",
       "/* On hover */\n",
       "div.sk-estimator:hover .sk-estimator-doc-link:hover,\n",
       ".sk-estimator-doc-link:hover,\n",
       "div.sk-label-container:hover .sk-estimator-doc-link:hover,\n",
       ".sk-estimator-doc-link:hover {\n",
       "  /* unfitted */\n",
       "  background-color: var(--sklearn-color-unfitted-level-3);\n",
       "  color: var(--sklearn-color-background);\n",
       "  text-decoration: none;\n",
       "}\n",
       "\n",
       "div.sk-estimator.fitted:hover .sk-estimator-doc-link.fitted:hover,\n",
       ".sk-estimator-doc-link.fitted:hover,\n",
       "div.sk-label-container:hover .sk-estimator-doc-link.fitted:hover,\n",
       ".sk-estimator-doc-link.fitted:hover {\n",
       "  /* fitted */\n",
       "  background-color: var(--sklearn-color-fitted-level-3);\n",
       "  color: var(--sklearn-color-background);\n",
       "  text-decoration: none;\n",
       "}\n",
       "\n",
       "/* Span, style for the box shown on hovering the info icon */\n",
       ".sk-estimator-doc-link span {\n",
       "  display: none;\n",
       "  z-index: 9999;\n",
       "  position: relative;\n",
       "  font-weight: normal;\n",
       "  right: .2ex;\n",
       "  padding: .5ex;\n",
       "  margin: .5ex;\n",
       "  width: min-content;\n",
       "  min-width: 20ex;\n",
       "  max-width: 50ex;\n",
       "  color: var(--sklearn-color-text);\n",
       "  box-shadow: 2pt 2pt 4pt #999;\n",
       "  /* unfitted */\n",
       "  background: var(--sklearn-color-unfitted-level-0);\n",
       "  border: .5pt solid var(--sklearn-color-unfitted-level-3);\n",
       "}\n",
       "\n",
       ".sk-estimator-doc-link.fitted span {\n",
       "  /* fitted */\n",
       "  background: var(--sklearn-color-fitted-level-0);\n",
       "  border: var(--sklearn-color-fitted-level-3);\n",
       "}\n",
       "\n",
       ".sk-estimator-doc-link:hover span {\n",
       "  display: block;\n",
       "}\n",
       "\n",
       "/* \"?\"-specific style due to the `<a>` HTML tag */\n",
       "\n",
       "#sk-container-id-1 a.estimator_doc_link {\n",
       "  float: right;\n",
       "  font-size: 1rem;\n",
       "  line-height: 1em;\n",
       "  font-family: monospace;\n",
       "  background-color: var(--sklearn-color-background);\n",
       "  border-radius: 1rem;\n",
       "  height: 1rem;\n",
       "  width: 1rem;\n",
       "  text-decoration: none;\n",
       "  /* unfitted */\n",
       "  color: var(--sklearn-color-unfitted-level-1);\n",
       "  border: var(--sklearn-color-unfitted-level-1) 1pt solid;\n",
       "}\n",
       "\n",
       "#sk-container-id-1 a.estimator_doc_link.fitted {\n",
       "  /* fitted */\n",
       "  border: var(--sklearn-color-fitted-level-1) 1pt solid;\n",
       "  color: var(--sklearn-color-fitted-level-1);\n",
       "}\n",
       "\n",
       "/* On hover */\n",
       "#sk-container-id-1 a.estimator_doc_link:hover {\n",
       "  /* unfitted */\n",
       "  background-color: var(--sklearn-color-unfitted-level-3);\n",
       "  color: var(--sklearn-color-background);\n",
       "  text-decoration: none;\n",
       "}\n",
       "\n",
       "#sk-container-id-1 a.estimator_doc_link.fitted:hover {\n",
       "  /* fitted */\n",
       "  background-color: var(--sklearn-color-fitted-level-3);\n",
       "}\n",
       "</style><div id=\"sk-container-id-1\" class=\"sk-top-container\"><div class=\"sk-text-repr-fallback\"><pre>XGBClassifier(base_score=None, booster=None, callbacks=None,\n",
       "              colsample_bylevel=None, colsample_bynode=None,\n",
       "              colsample_bytree=0.21039136022674532, device=&#x27;cuda&#x27;,\n",
       "              early_stopping_rounds=200, enable_categorical=True,\n",
       "              eval_metric=&#x27;auc&#x27;, feature_types=None, gamma=0.001,\n",
       "              grow_policy=None, importance_type=None,\n",
       "              interaction_constraints=None, learning_rate=0.05, max_bin=32767,\n",
       "              max_cat_threshold=None, max_cat_to_onehot=None,\n",
       "              max_delta_step=None, max_depth=27, max_leaves=None,\n",
       "              min_child_weight=36, missing=nan, monotone_constraints=None,\n",
       "              multi_strategy=None, n_estimators=5000, n_jobs=None,\n",
       "              num_parallel_tree=None, random_state=1, ...)</pre><b>In a Jupyter environment, please rerun this cell to show the HTML representation or trust the notebook. <br />On GitHub, the HTML representation is unable to render, please try loading this page with nbviewer.org.</b></div><div class=\"sk-container\" hidden><div class=\"sk-item\"><div class=\"sk-estimator fitted sk-toggleable\"><input class=\"sk-toggleable__control sk-hidden--visually\" id=\"sk-estimator-id-1\" type=\"checkbox\" checked><label for=\"sk-estimator-id-1\" class=\"sk-toggleable__label fitted sk-toggleable__label-arrow fitted\">&nbsp;XGBClassifier<span class=\"sk-estimator-doc-link fitted\">i<span>Fitted</span></span></label><div class=\"sk-toggleable__content fitted\"><pre>XGBClassifier(base_score=None, booster=None, callbacks=None,\n",
       "              colsample_bylevel=None, colsample_bynode=None,\n",
       "              colsample_bytree=0.21039136022674532, device=&#x27;cuda&#x27;,\n",
       "              early_stopping_rounds=200, enable_categorical=True,\n",
       "              eval_metric=&#x27;auc&#x27;, feature_types=None, gamma=0.001,\n",
       "              grow_policy=None, importance_type=None,\n",
       "              interaction_constraints=None, learning_rate=0.05, max_bin=32767,\n",
       "              max_cat_threshold=None, max_cat_to_onehot=None,\n",
       "              max_delta_step=None, max_depth=27, max_leaves=None,\n",
       "              min_child_weight=36, missing=nan, monotone_constraints=None,\n",
       "              multi_strategy=None, n_estimators=5000, n_jobs=None,\n",
       "              num_parallel_tree=None, random_state=1, ...)</pre></div> </div></div></div></div>"
      ]
     },
     "execution_count": 38,
     "metadata": {},
     "output_type": "execute_result"
    }
   ],
   "execution_count": 38
  },
  {
   "cell_type": "code",
   "id": "6cff2cc2",
   "metadata": {
    "execution": {
     "iopub.execute_input": "2024-07-20T02:47:25.725342Z",
     "iopub.status.busy": "2024-07-20T02:47:25.724412Z",
     "iopub.status.idle": "2024-07-20T02:47:25.729175Z",
     "shell.execute_reply": "2024-07-20T02:47:25.728156Z"
    },
    "papermill": {
     "duration": 0.018302,
     "end_time": "2024-07-20T02:47:25.731468",
     "exception": false,
     "start_time": "2024-07-20T02:47:25.713166",
     "status": "completed"
    },
    "tags": [],
    "ExecuteTime": {
     "end_time": "2024-07-21T10:40:33.590890Z",
     "start_time": "2024-07-21T10:40:33.588619Z"
    }
   },
   "source": [
    "booster = model.get_booster()"
   ],
   "outputs": [],
   "execution_count": 39
  },
  {
   "cell_type": "code",
   "id": "146288ba",
   "metadata": {
    "execution": {
     "iopub.execute_input": "2024-07-20T02:47:25.752700Z",
     "iopub.status.busy": "2024-07-20T02:47:25.752378Z",
     "iopub.status.idle": "2024-07-20T02:47:36.084266Z",
     "shell.execute_reply": "2024-07-20T02:47:36.083311Z"
    },
    "papermill": {
     "duration": 10.345507,
     "end_time": "2024-07-20T02:47:36.086969",
     "exception": false,
     "start_time": "2024-07-20T02:47:25.741462",
     "status": "completed"
    },
    "tags": [],
    "ExecuteTime": {
     "end_time": "2024-07-21T10:42:34.244080Z",
     "start_time": "2024-07-21T10:40:34.502069Z"
    }
   },
   "source": [
    "test_dmatrix = xgb.DMatrix(test_df, enable_categorical=True)\n",
    "xgboost_output = booster.predict(test_dmatrix, iteration_range=(0, booster.best_iteration + 1))"
   ],
   "outputs": [],
   "execution_count": 40
  },
  {
   "cell_type": "markdown",
   "id": "5760e585",
   "metadata": {
    "papermill": {
     "duration": 0.009813,
     "end_time": "2024-07-20T02:47:36.107361",
     "exception": false,
     "start_time": "2024-07-20T02:47:36.097548",
     "status": "completed"
    },
    "tags": []
   },
   "source": [
    "# Catboost \n",
    "\n",
    "- cat_features=all features"
   ]
  },
  {
   "cell_type": "code",
   "id": "edb2fb5b",
   "metadata": {
    "execution": {
     "iopub.execute_input": "2024-07-20T02:47:36.129518Z",
     "iopub.status.busy": "2024-07-20T02:47:36.128829Z",
     "iopub.status.idle": "2024-07-20T02:48:05.180691Z",
     "shell.execute_reply": "2024-07-20T02:48:05.179768Z"
    },
    "papermill": {
     "duration": 29.065845,
     "end_time": "2024-07-20T02:48:05.183388",
     "exception": false,
     "start_time": "2024-07-20T02:47:36.117543",
     "status": "completed"
    },
    "tags": [],
    "ExecuteTime": {
     "end_time": "2024-07-21T10:43:26.638139Z",
     "start_time": "2024-07-21T10:43:19.239963Z"
    }
   },
   "source": [
    "train_df, dev_df, test_df = retrieve_train_dev_test_for_catboost()\n",
    "X_train, Y_train = split_input_output(train_df)\n",
    "X_dev, Y_dev = split_input_output(dev_df)"
   ],
   "outputs": [],
   "execution_count": 41
  },
  {
   "cell_type": "code",
   "id": "fbad0838",
   "metadata": {
    "execution": {
     "iopub.execute_input": "2024-07-20T02:48:05.204845Z",
     "iopub.status.busy": "2024-07-20T02:48:05.204206Z",
     "iopub.status.idle": "2024-07-20T02:48:05.208502Z",
     "shell.execute_reply": "2024-07-20T02:48:05.207652Z"
    },
    "papermill": {
     "duration": 0.017092,
     "end_time": "2024-07-20T02:48:05.210666",
     "exception": false,
     "start_time": "2024-07-20T02:48:05.193574",
     "status": "completed"
    },
    "tags": [],
    "ExecuteTime": {
     "end_time": "2024-07-21T10:43:30.082236Z",
     "start_time": "2024-07-21T10:43:30.079991Z"
    }
   },
   "source": [
    "cat_features=X_train.columns.values"
   ],
   "outputs": [],
   "execution_count": 42
  },
  {
   "cell_type": "code",
   "id": "ff94fe36",
   "metadata": {
    "execution": {
     "iopub.execute_input": "2024-07-20T02:48:05.228616Z",
     "iopub.status.busy": "2024-07-20T02:48:05.228315Z",
     "iopub.status.idle": "2024-07-20T02:48:32.363823Z",
     "shell.execute_reply": "2024-07-20T02:48:32.362980Z"
    },
    "papermill": {
     "duration": 27.146989,
     "end_time": "2024-07-20T02:48:32.366087",
     "exception": false,
     "start_time": "2024-07-20T02:48:05.219098",
     "status": "completed"
    },
    "tags": [],
    "ExecuteTime": {
     "end_time": "2024-07-21T10:43:31.131941Z",
     "start_time": "2024-07-21T10:43:31.118251Z"
    }
   },
   "source": [
    "dataset = cb.Pool(X_train, label=Y_train, cat_features=cat_features)"
   ],
   "outputs": [
    {
     "ename": "NameError",
     "evalue": "name 'cb' is not defined",
     "output_type": "error",
     "traceback": [
      "\u001B[0;31m---------------------------------------------------------------------------\u001B[0m",
      "\u001B[0;31mNameError\u001B[0m                                 Traceback (most recent call last)",
      "Cell \u001B[0;32mIn[43], line 1\u001B[0m\n\u001B[0;32m----> 1\u001B[0m dataset \u001B[38;5;241m=\u001B[39m \u001B[43mcb\u001B[49m\u001B[38;5;241m.\u001B[39mPool(X_train, label\u001B[38;5;241m=\u001B[39mY_train, cat_features\u001B[38;5;241m=\u001B[39mcat_features)\n",
      "\u001B[0;31mNameError\u001B[0m: name 'cb' is not defined"
     ]
    }
   ],
   "execution_count": 43
  },
  {
   "cell_type": "code",
   "execution_count": 15,
   "id": "89eed13e",
   "metadata": {
    "execution": {
     "iopub.execute_input": "2024-07-20T02:48:32.386106Z",
     "iopub.status.busy": "2024-07-20T02:48:32.385785Z",
     "iopub.status.idle": "2024-07-20T02:48:32.393079Z",
     "shell.execute_reply": "2024-07-20T02:48:32.392212Z"
    },
    "papermill": {
     "duration": 0.019631,
     "end_time": "2024-07-20T02:48:32.395074",
     "exception": false,
     "start_time": "2024-07-20T02:48:32.375443",
     "status": "completed"
    },
    "tags": []
   },
   "outputs": [],
   "source": [
    "tuned_params = {\n",
    "    # -------------- Constant params used in tuning --------\n",
    "    'task_type': 'GPU',\n",
    "    'loss_function': 'Logloss',\n",
    "    'eval_metric': 'Logloss', \n",
    "    'custom_metric': ['Logloss'],\n",
    "    'random_seed': SEED,\n",
    "    'use_best_model': True,\n",
    "    \n",
    "    \n",
    "    # --------------- Speed Up Training -------------\n",
    "    'bootstrap_type': 'Bayesian',\n",
    "    # Ordered — Usually provides better quality on small datasets, but it may be slower than the Plain scheme.\n",
    "    # Plain — The classic gradient boosting scheme.\n",
    "    'boosting_type': 'Plain',\n",
    "    # Try to set border_count of this parameter to 32 if training is performed on GPU. \n",
    "    # In many cases, this does not affect the quality of the model but significantly speeds up the training.\n",
    "    'border_count': 32,\n",
    "    \n",
    "    \n",
    "    # --------------- Tuned Params ------------------\n",
    "    'learning_rate': 0.095,\n",
    "    'depth': 8,\n",
    "    'bagging_temperature': 0.8,\n",
    "    'l2_leaf_reg': 0.00255,\n",
    "    'random_strength': 0,\n",
    "    'border_count': 32,\n",
    "    'n_estimators': 3000,\n",
    "    'early_stopping_rounds': 200,\n",
    "    'auto_class_weights': 'None',\n",
    "    'leaf_estimation_iterations': 5,\n",
    "    \n",
    "    # overriding const params\n",
    "    'eval_metric': 'AUC', \n",
    "    'custom_metric': ['AUC'],\n",
    "}"
   ]
  },
  {
   "cell_type": "code",
   "execution_count": 16,
   "id": "e429dabf",
   "metadata": {
    "execution": {
     "iopub.execute_input": "2024-07-20T02:48:32.413493Z",
     "iopub.status.busy": "2024-07-20T02:48:32.413208Z",
     "iopub.status.idle": "2024-07-20T03:54:48.067605Z",
     "shell.execute_reply": "2024-07-20T03:54:48.066650Z"
    },
    "papermill": {
     "duration": 3975.67432,
     "end_time": "2024-07-20T03:54:48.077988",
     "exception": false,
     "start_time": "2024-07-20T02:48:32.403668",
     "status": "completed"
    },
    "tags": []
   },
   "outputs": [
    {
     "name": "stderr",
     "output_type": "stream",
     "text": [
      "Default metric period is 5 because AUC is/are not implemented for GPU\n"
     ]
    },
    {
     "name": "stdout",
     "output_type": "stream",
     "text": [
      "0:\ttest: 0.8730030\tbest: 0.8730030 (0)\ttotal: 2.79s\tremaining: 2h 19m 38s\n",
      "100:\ttest: 0.8918580\tbest: 0.8918580 (100)\ttotal: 3m 24s\tremaining: 1h 38m 1s\n",
      "200:\ttest: 0.8930877\tbest: 0.8930877 (200)\ttotal: 6m 23s\tremaining: 1h 29m 6s\n",
      "300:\ttest: 0.8936544\tbest: 0.8936544 (300)\ttotal: 9m 14s\tremaining: 1h 22m 52s\n",
      "400:\ttest: 0.8939801\tbest: 0.8939801 (400)\ttotal: 11m 56s\tremaining: 1h 17m 25s\n",
      "500:\ttest: 0.8942422\tbest: 0.8942422 (500)\ttotal: 14m 41s\tremaining: 1h 13m 18s\n",
      "600:\ttest: 0.8943807\tbest: 0.8943807 (600)\ttotal: 17m 22s\tremaining: 1h 9m 19s\n",
      "700:\ttest: 0.8945042\tbest: 0.8945042 (700)\ttotal: 20m 5s\tremaining: 1h 5m 55s\n",
      "800:\ttest: 0.8946012\tbest: 0.8946015 (794)\ttotal: 22m 50s\tremaining: 1h 2m 41s\n",
      "900:\ttest: 0.8946748\tbest: 0.8946748 (900)\ttotal: 25m 24s\tremaining: 59m 11s\n",
      "1000:\ttest: 0.8947195\tbest: 0.8947195 (1000)\ttotal: 28m 2s\tremaining: 55m 59s\n",
      "1100:\ttest: 0.8947760\tbest: 0.8947772 (1095)\ttotal: 30m 39s\tremaining: 52m 52s\n",
      "1200:\ttest: 0.8948178\tbest: 0.8948178 (1200)\ttotal: 33m 12s\tremaining: 49m 45s\n",
      "1300:\ttest: 0.8948525\tbest: 0.8948548 (1297)\ttotal: 35m 49s\tremaining: 46m 46s\n",
      "1400:\ttest: 0.8948689\tbest: 0.8948767 (1358)\ttotal: 38m 22s\tremaining: 43m 47s\n",
      "1500:\ttest: 0.8949170\tbest: 0.8949182 (1497)\ttotal: 40m 56s\tremaining: 40m 53s\n",
      "1600:\ttest: 0.8949030\tbest: 0.8949205 (1506)\ttotal: 43m 34s\tremaining: 38m 5s\n",
      "1700:\ttest: 0.8949290\tbest: 0.8949297 (1699)\ttotal: 46m 10s\tremaining: 35m 15s\n",
      "1800:\ttest: 0.8949665\tbest: 0.8949665 (1800)\ttotal: 48m 47s\tremaining: 32m 29s\n",
      "1900:\ttest: 0.8949704\tbest: 0.8949704 (1900)\ttotal: 51m 26s\tremaining: 29m 44s\n",
      "2000:\ttest: 0.8949907\tbest: 0.8949933 (1987)\ttotal: 54m 2s\tremaining: 26m 58s\n",
      "2100:\ttest: 0.8949997\tbest: 0.8950114 (2078)\ttotal: 56m 35s\tremaining: 24m 12s\n",
      "2200:\ttest: 0.8950099\tbest: 0.8950114 (2078)\ttotal: 59m 10s\tremaining: 21m 28s\n",
      "2300:\ttest: 0.8949849\tbest: 0.8950202 (2234)\ttotal: 1h 1m 45s\tremaining: 18m 45s\n",
      "2400:\ttest: 0.8949799\tbest: 0.8950202 (2234)\ttotal: 1h 4m 24s\tremaining: 16m 4s\n",
      "bestTest = 0.8950201869\n",
      "bestIteration = 2234\n",
      "Shrink model to first 2235 iterations.\n"
     ]
    },
    {
     "data": {
      "text/plain": [
       "<catboost.core.CatBoostClassifier at 0x7fc2e8127a30>"
      ]
     },
     "execution_count": 16,
     "metadata": {},
     "output_type": "execute_result"
    }
   ],
   "source": [
    "# At least in my experiment, scale_pos_weight does not help in catboost\n",
    "model = cb.CatBoostClassifier(**tuned_params, cat_features=cat_features)\n",
    "model.fit(dataset, verbose=100, eval_set=(X_dev, Y_dev))"
   ]
  },
  {
   "cell_type": "code",
   "execution_count": 17,
   "id": "ff9d6c40",
   "metadata": {
    "execution": {
     "iopub.execute_input": "2024-07-20T03:54:48.110260Z",
     "iopub.status.busy": "2024-07-20T03:54:48.109208Z",
     "iopub.status.idle": "2024-07-20T03:56:05.019363Z",
     "shell.execute_reply": "2024-07-20T03:56:05.018339Z"
    },
    "papermill": {
     "duration": 76.929136,
     "end_time": "2024-07-20T03:56:05.022055",
     "exception": false,
     "start_time": "2024-07-20T03:54:48.092919",
     "status": "completed"
    },
    "tags": []
   },
   "outputs": [],
   "source": [
    "test_pool = cb.Pool(test_df, cat_features=X_train.columns.values)\n",
    "cb_output = model.predict(test_df, prediction_type='Probability', ntree_end=model.get_best_iteration() + 1)"
   ]
  },
  {
   "cell_type": "code",
   "execution_count": 18,
   "id": "09d764dc",
   "metadata": {
    "execution": {
     "iopub.execute_input": "2024-07-20T03:56:05.047564Z",
     "iopub.status.busy": "2024-07-20T03:56:05.047179Z",
     "iopub.status.idle": "2024-07-20T03:56:05.053269Z",
     "shell.execute_reply": "2024-07-20T03:56:05.052190Z"
    },
    "papermill": {
     "duration": 0.022315,
     "end_time": "2024-07-20T03:56:05.056355",
     "exception": false,
     "start_time": "2024-07-20T03:56:05.034040",
     "status": "completed"
    },
    "tags": []
   },
   "outputs": [
    {
     "name": "stdout",
     "output_type": "stream",
     "text": [
      "[[9.94749744e-01 5.25025616e-03]\n",
      " [3.73193939e-01 6.26806061e-01]\n",
      " [7.71100509e-01 2.28899491e-01]\n",
      " ...\n",
      " [9.99671561e-01 3.28438525e-04]\n",
      " [3.93177913e-01 6.06822087e-01]\n",
      " [9.99943263e-01 5.67371797e-05]]\n"
     ]
    }
   ],
   "source": [
    "# Two-dimensional numpy.ndarray of shape (number_of_objects, number_of_classes) with the probability for every class for each object.\n",
    "print(cb_output)"
   ]
  },
  {
   "cell_type": "code",
   "execution_count": 19,
   "id": "6e3630d0",
   "metadata": {
    "execution": {
     "iopub.execute_input": "2024-07-20T03:56:05.084409Z",
     "iopub.status.busy": "2024-07-20T03:56:05.084031Z",
     "iopub.status.idle": "2024-07-20T03:56:05.088913Z",
     "shell.execute_reply": "2024-07-20T03:56:05.087826Z"
    },
    "papermill": {
     "duration": 0.021312,
     "end_time": "2024-07-20T03:56:05.091172",
     "exception": false,
     "start_time": "2024-07-20T03:56:05.069860",
     "status": "completed"
    },
    "tags": []
   },
   "outputs": [],
   "source": [
    "# since it is binary classification, we only need the second column\n",
    "cb_output = cb_output[:, 1]"
   ]
  },
  {
   "cell_type": "markdown",
   "id": "367018f2",
   "metadata": {
    "papermill": {
     "duration": 0.01089,
     "end_time": "2024-07-20T03:56:05.113861",
     "exception": false,
     "start_time": "2024-07-20T03:56:05.102971",
     "status": "completed"
    },
    "tags": []
   },
   "source": [
    "# Ensemble Catboost and XGBoost"
   ]
  },
  {
   "cell_type": "code",
   "execution_count": 20,
   "id": "8c7ad232",
   "metadata": {
    "execution": {
     "iopub.execute_input": "2024-07-20T03:56:05.137168Z",
     "iopub.status.busy": "2024-07-20T03:56:05.136882Z",
     "iopub.status.idle": "2024-07-20T03:56:15.796250Z",
     "shell.execute_reply": "2024-07-20T03:56:15.795144Z"
    },
    "papermill": {
     "duration": 10.673546,
     "end_time": "2024-07-20T03:56:15.798370",
     "exception": false,
     "start_time": "2024-07-20T03:56:05.124824",
     "status": "completed"
    },
    "tags": []
   },
   "outputs": [
    {
     "data": {
      "text/html": [
       "<div>\n",
       "<style scoped>\n",
       "    .dataframe tbody tr th:only-of-type {\n",
       "        vertical-align: middle;\n",
       "    }\n",
       "\n",
       "    .dataframe tbody tr th {\n",
       "        vertical-align: top;\n",
       "    }\n",
       "\n",
       "    .dataframe thead th {\n",
       "        text-align: right;\n",
       "    }\n",
       "</style>\n",
       "<table border=\"1\" class=\"dataframe\">\n",
       "  <thead>\n",
       "    <tr style=\"text-align: right;\">\n",
       "      <th></th>\n",
       "      <th>id</th>\n",
       "      <th>Response</th>\n",
       "    </tr>\n",
       "  </thead>\n",
       "  <tbody>\n",
       "    <tr>\n",
       "      <th>0</th>\n",
       "      <td>11504798</td>\n",
       "      <td>0.016614</td>\n",
       "    </tr>\n",
       "    <tr>\n",
       "      <th>1</th>\n",
       "      <td>11504799</td>\n",
       "      <td>0.772606</td>\n",
       "    </tr>\n",
       "    <tr>\n",
       "      <th>2</th>\n",
       "      <td>11504800</td>\n",
       "      <td>0.460942</td>\n",
       "    </tr>\n",
       "    <tr>\n",
       "      <th>3</th>\n",
       "      <td>11504801</td>\n",
       "      <td>0.000417</td>\n",
       "    </tr>\n",
       "    <tr>\n",
       "      <th>4</th>\n",
       "      <td>11504802</td>\n",
       "      <td>0.333679</td>\n",
       "    </tr>\n",
       "  </tbody>\n",
       "</table>\n",
       "</div>"
      ],
      "text/plain": [
       "         id  Response\n",
       "0  11504798  0.016614\n",
       "1  11504799  0.772606\n",
       "2  11504800  0.460942\n",
       "3  11504801  0.000417\n",
       "4  11504802  0.333679"
      ]
     },
     "execution_count": 20,
     "metadata": {},
     "output_type": "execute_result"
    }
   ],
   "source": [
    "id_column = pd.read_csv(DATA_DIR / 'test.csv')['id']\n",
    "output = pd.DataFrame({'id': id_column, 'Response': (xgboost_output + cb_output) / 2})\n",
    "output.head()"
   ]
  },
  {
   "cell_type": "code",
   "execution_count": 21,
   "id": "b6638786",
   "metadata": {
    "execution": {
     "iopub.execute_input": "2024-07-20T03:56:15.822534Z",
     "iopub.status.busy": "2024-07-20T03:56:15.821985Z",
     "iopub.status.idle": "2024-07-20T03:56:40.880145Z",
     "shell.execute_reply": "2024-07-20T03:56:40.878994Z"
    },
    "papermill": {
     "duration": 25.073305,
     "end_time": "2024-07-20T03:56:40.882999",
     "exception": false,
     "start_time": "2024-07-20T03:56:15.809694",
     "status": "completed"
    },
    "tags": []
   },
   "outputs": [],
   "source": [
    "output.to_csv('submission.csv', index=False)"
   ]
  },
  {
   "cell_type": "code",
   "execution_count": null,
   "id": "7b736cd0",
   "metadata": {
    "papermill": {
     "duration": 0.012053,
     "end_time": "2024-07-20T03:56:40.908103",
     "exception": false,
     "start_time": "2024-07-20T03:56:40.896050",
     "status": "completed"
    },
    "tags": []
   },
   "outputs": [],
   "source": []
  }
 ],
 "metadata": {
  "kaggle": {
   "accelerator": "nvidiaTeslaT4",
   "dataSources": [
    {
     "databundleVersionId": 8930475,
     "sourceId": 73291,
     "sourceType": "competition"
    }
   ],
   "dockerImageVersionId": 30747,
   "isGpuEnabled": true,
   "isInternetEnabled": true,
   "language": "python",
   "sourceType": "notebook"
  },
  "kernelspec": {
   "display_name": "Python 3",
   "language": "python",
   "name": "python3"
  },
  "language_info": {
   "codemirror_mode": {
    "name": "ipython",
    "version": 3
   },
   "file_extension": ".py",
   "mimetype": "text/x-python",
   "name": "python",
   "nbconvert_exporter": "python",
   "pygments_lexer": "ipython3",
   "version": "3.10.13"
  },
  "papermill": {
   "default_parameters": {},
   "duration": 4884.814999,
   "end_time": "2024-07-20T03:56:42.657041",
   "environment_variables": {},
   "exception": null,
   "input_path": "__notebook__.ipynb",
   "output_path": "__notebook__.ipynb",
   "parameters": {},
   "start_time": "2024-07-20T02:35:17.842042",
   "version": "2.5.0"
  }
 },
 "nbformat": 4,
 "nbformat_minor": 5
}
